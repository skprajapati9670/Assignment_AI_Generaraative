{
 "cells": [
  {
   "cell_type": "code",
   "execution_count": 1,
   "id": "1f822415",
   "metadata": {},
   "outputs": [],
   "source": [
    "#Explain the significance of Python keywords and provide examples of five keywords"
   ]
  },
  {
   "cell_type": "markdown",
   "id": "ed6a63c8",
   "metadata": {},
   "source": [
    "# Python Keywords"
   ]
  },
  {
   "cell_type": "markdown",
   "id": "e6937118",
   "metadata": {},
   "source": [
    "Python has a set of keywords that are reserved words that cannot be used as variable names, function names, or any other identifiers"
   ]
  },
  {
   "cell_type": "code",
   "execution_count": 2,
   "id": "4e1d49b6",
   "metadata": {},
   "outputs": [],
   "source": [
    "#for example"
   ]
  },
  {
   "cell_type": "code",
   "execution_count": 4,
   "id": "e2c2d889",
   "metadata": {},
   "outputs": [
    {
     "name": "stdout",
     "output_type": "stream",
     "text": [
      "\n",
      "Here is a list of the Python keywords.  Enter any keyword to get more help.\n",
      "\n",
      "False               break               for                 not\n",
      "None                class               from                or\n",
      "True                continue            global              pass\n",
      "__peg_parser__      def                 if                  raise\n",
      "and                 del                 import              return\n",
      "as                  elif                in                  try\n",
      "assert              else                is                  while\n",
      "async               except              lambda              with\n",
      "await               finally             nonlocal            yield\n",
      "\n"
     ]
    }
   ],
   "source": [
    "help('keywords')"
   ]
  },
  {
   "cell_type": "code",
   "execution_count": 5,
   "id": "702e025a",
   "metadata": {},
   "outputs": [
    {
     "name": "stdout",
     "output_type": "stream",
     "text": [
      "0\n",
      "1\n",
      "2\n",
      "3\n",
      "4\n"
     ]
    }
   ],
   "source": [
    "for i in range(5):\n",
    "    print(i)"
   ]
  },
  {
   "cell_type": "code",
   "execution_count": 6,
   "id": "4baf5cbf",
   "metadata": {},
   "outputs": [],
   "source": [
    "import math"
   ]
  },
  {
   "cell_type": "code",
   "execution_count": 8,
   "id": "6b9a23cf",
   "metadata": {},
   "outputs": [
    {
     "data": {
      "text/plain": [
       "2.23606797749979"
      ]
     },
     "execution_count": 8,
     "metadata": {},
     "output_type": "execute_result"
    }
   ],
   "source": [
    "math.sqrt(5)"
   ]
  },
  {
   "cell_type": "code",
   "execution_count": 9,
   "id": "4264e4b3",
   "metadata": {},
   "outputs": [],
   "source": [
    "if(10>20):\n",
    "    print(\"yes\")"
   ]
  },
  {
   "cell_type": "code",
   "execution_count": 13,
   "id": "1b0f37d8",
   "metadata": {},
   "outputs": [
    {
     "name": "stdout",
     "output_type": "stream",
     "text": [
      "0\n",
      "1\n"
     ]
    }
   ],
   "source": [
    "for i in range(5):\n",
    "    if(i==2):\n",
    "        break\n",
    "    print(i)"
   ]
  },
  {
   "cell_type": "code",
   "execution_count": 15,
   "id": "9fe19956",
   "metadata": {},
   "outputs": [
    {
     "name": "stdout",
     "output_type": "stream",
     "text": [
      "0\n",
      "1\n",
      "3\n",
      "4\n"
     ]
    }
   ],
   "source": [
    "for i in range(5):\n",
    "    if(i==2):\n",
    "         continue\n",
    "    print(i)"
   ]
  },
  {
   "cell_type": "code",
   "execution_count": 16,
   "id": "4f44543c",
   "metadata": {},
   "outputs": [],
   "source": [
    "#Describe the rules for defining identifiers in Python and provide an example\n"
   ]
  },
  {
   "cell_type": "markdown",
   "id": "65bf4481",
   "metadata": {},
   "source": [
    "# Rules for defining identifiers"
   ]
  },
  {
   "cell_type": "code",
   "execution_count": null,
   "id": "9c0930fd",
   "metadata": {},
   "outputs": [],
   "source": [
    "#Identifiers cannot be a keyword.\n",
    "#Identifiers are case-sensitive.\n",
    "#It can have a sequence of letters and digits. However, it must begin with a letter or _. The first letter of an identifier cannot be a digit.\n",
    "#It's a convention to start an identifier with a letter rather _.\n",
    "#Whitespaces are not allowed.\n",
    "#We cannot use special symbols like !, @, #, $, and so on.\n"
   ]
  },
  {
   "cell_type": "code",
   "execution_count": 17,
   "id": "41b15f14",
   "metadata": {},
   "outputs": [],
   "source": [
    "#Example"
   ]
  },
  {
   "cell_type": "code",
   "execution_count": 18,
   "id": "f6778511",
   "metadata": {},
   "outputs": [
    {
     "ename": "SyntaxError",
     "evalue": "invalid syntax (Temp/ipykernel_15020/1192807202.py, line 1)",
     "output_type": "error",
     "traceback": [
      "\u001b[1;36m  File \u001b[1;32m\"C:\\Users\\Admin\\AppData\\Local\\Temp/ipykernel_15020/1192807202.py\"\u001b[1;36m, line \u001b[1;32m1\u001b[0m\n\u001b[1;33m    is=10\u001b[0m\n\u001b[1;37m    ^\u001b[0m\n\u001b[1;31mSyntaxError\u001b[0m\u001b[1;31m:\u001b[0m invalid syntax\n"
     ]
    }
   ],
   "source": [
    "is=10"
   ]
  },
  {
   "cell_type": "code",
   "execution_count": 19,
   "id": "6c67424d",
   "metadata": {},
   "outputs": [],
   "source": [
    "a=10"
   ]
  },
  {
   "cell_type": "code",
   "execution_count": 20,
   "id": "966c2aad",
   "metadata": {},
   "outputs": [],
   "source": [
    "A=20"
   ]
  },
  {
   "cell_type": "code",
   "execution_count": 21,
   "id": "b31a7bcc",
   "metadata": {},
   "outputs": [],
   "source": [
    "_sum=10"
   ]
  },
  {
   "cell_type": "code",
   "execution_count": 22,
   "id": "a05cd0ee",
   "metadata": {},
   "outputs": [],
   "source": [
    "sum_=10"
   ]
  },
  {
   "cell_type": "code",
   "execution_count": 23,
   "id": "225aef81",
   "metadata": {},
   "outputs": [
    {
     "ename": "SyntaxError",
     "evalue": "invalid syntax (Temp/ipykernel_15020/1616563255.py, line 1)",
     "output_type": "error",
     "traceback": [
      "\u001b[1;36m  File \u001b[1;32m\"C:\\Users\\Admin\\AppData\\Local\\Temp/ipykernel_15020/1616563255.py\"\u001b[1;36m, line \u001b[1;32m1\u001b[0m\n\u001b[1;33m    @sum=45\u001b[0m\n\u001b[1;37m        ^\u001b[0m\n\u001b[1;31mSyntaxError\u001b[0m\u001b[1;31m:\u001b[0m invalid syntax\n"
     ]
    }
   ],
   "source": [
    "@sum=45 #worng"
   ]
  },
  {
   "cell_type": "code",
   "execution_count": 24,
   "id": "f08bf4bf",
   "metadata": {},
   "outputs": [
    {
     "ename": "SyntaxError",
     "evalue": "invalid syntax (Temp/ipykernel_15020/3292086602.py, line 1)",
     "output_type": "error",
     "traceback": [
      "\u001b[1;36m  File \u001b[1;32m\"C:\\Users\\Admin\\AppData\\Local\\Temp/ipykernel_15020/3292086602.py\"\u001b[1;36m, line \u001b[1;32m1\u001b[0m\n\u001b[1;33m    12sum=10\u001b[0m\n\u001b[1;37m      ^\u001b[0m\n\u001b[1;31mSyntaxError\u001b[0m\u001b[1;31m:\u001b[0m invalid syntax\n"
     ]
    }
   ],
   "source": [
    "12sum=10 #worng"
   ]
  },
  {
   "cell_type": "code",
   "execution_count": 25,
   "id": "3b08429a",
   "metadata": {},
   "outputs": [],
   "source": [
    "sum12=50"
   ]
  },
  {
   "cell_type": "code",
   "execution_count": 27,
   "id": "04828e7d",
   "metadata": {},
   "outputs": [
    {
     "ename": "SyntaxError",
     "evalue": "invalid syntax (Temp/ipykernel_15020/1910323490.py, line 1)",
     "output_type": "error",
     "traceback": [
      "\u001b[1;36m  File \u001b[1;32m\"C:\\Users\\Admin\\AppData\\Local\\Temp/ipykernel_15020/1910323490.py\"\u001b[1;36m, line \u001b[1;32m1\u001b[0m\n\u001b[1;33m    sum dd=10 #worng\u001b[0m\n\u001b[1;37m        ^\u001b[0m\n\u001b[1;31mSyntaxError\u001b[0m\u001b[1;31m:\u001b[0m invalid syntax\n"
     ]
    }
   ],
   "source": [
    "sum dd=10 #worng"
   ]
  },
  {
   "cell_type": "code",
   "execution_count": 28,
   "id": "34cf984a",
   "metadata": {},
   "outputs": [],
   "source": [
    "sum_dd=456"
   ]
  },
  {
   "cell_type": "code",
   "execution_count": 29,
   "id": "351817b1",
   "metadata": {},
   "outputs": [],
   "source": [
    "#What are comments in Python, and why are they usefull  Provide an example"
   ]
  },
  {
   "cell_type": "markdown",
   "id": "c3311758",
   "metadata": {},
   "source": [
    "# comments in Python"
   ]
  },
  {
   "cell_type": "markdown",
   "id": "d06b5b98",
   "metadata": {},
   "source": [
    "Comments in Python are the lines in the code that are ignored by the interpreter during the execution of the program."
   ]
  },
  {
   "cell_type": "markdown",
   "id": "35f51792",
   "metadata": {},
   "source": [
    "# why are they usefull"
   ]
  },
  {
   "cell_type": "code",
   "execution_count": 30,
   "id": "32e800e7",
   "metadata": {},
   "outputs": [],
   "source": [
    "#Enhance code readability\n",
    "#Explaining code to other\n",
    "#Understanding code if studied after some time\n",
    "#Documenting the steps and needs for a function\n",
    "#Sharing code with fellow developers\n",
    "#Collaborating with multiple people."
   ]
  },
  {
   "cell_type": "markdown",
   "id": "0a4f27a6",
   "metadata": {},
   "source": [
    "# Example"
   ]
  },
  {
   "cell_type": "code",
   "execution_count": 32,
   "id": "9016bc93",
   "metadata": {},
   "outputs": [
    {
     "data": {
      "text/plain": [
       "' Multi-line comment used \\nprint(\"Python Comments\") '"
      ]
     },
     "execution_count": 32,
     "metadata": {},
     "output_type": "execute_result"
    }
   ],
   "source": [
    "# I am single line comment \n",
    "  \n",
    "  \n",
    "\"\"\" Multi-line comment used \n",
    "print(\"Python Comments\") \"\"\""
   ]
  },
  {
   "cell_type": "code",
   "execution_count": 33,
   "id": "47585a0b",
   "metadata": {},
   "outputs": [],
   "source": [
    "#Why is proper indentation important in Python"
   ]
  },
  {
   "cell_type": "markdown",
   "id": "509e8055",
   "metadata": {},
   "source": [
    "Indentation refers to the spaces at the beginning of a code line.\n",
    "\n",
    "Where in other programming languages the indentation in code is for readability only, the indentation in Python is very important.\n",
    "\n",
    "Python uses indentation to indicate a block of code."
   ]
  },
  {
   "cell_type": "code",
   "execution_count": 35,
   "id": "6b24e0a4",
   "metadata": {},
   "outputs": [],
   "source": [
    "#What happens if indentation is incorrect in Python6"
   ]
  },
  {
   "cell_type": "markdown",
   "id": "ec7c3cb4",
   "metadata": {},
   "source": [
    "If there is an incorrect indentation, this will result in an error, and the python interpreter will just return an error function"
   ]
  },
  {
   "cell_type": "code",
   "execution_count": 36,
   "id": "d4fe3490",
   "metadata": {},
   "outputs": [],
   "source": [
    "#For Example"
   ]
  },
  {
   "cell_type": "code",
   "execution_count": 37,
   "id": "5eac0fb2",
   "metadata": {},
   "outputs": [
    {
     "ename": "SyntaxError",
     "evalue": "invalid syntax (Temp/ipykernel_15020/4137472788.py, line 1)",
     "output_type": "error",
     "traceback": [
      "\u001b[1;36m  File \u001b[1;32m\"C:\\Users\\Admin\\AppData\\Local\\Temp/ipykernel_15020/4137472788.py\"\u001b[1;36m, line \u001b[1;32m1\u001b[0m\n\u001b[1;33m    if(10>50)\u001b[0m\n\u001b[1;37m             ^\u001b[0m\n\u001b[1;31mSyntaxError\u001b[0m\u001b[1;31m:\u001b[0m invalid syntax\n"
     ]
    }
   ],
   "source": [
    "if(10>50)\n",
    "  print(\"yes\")"
   ]
  },
  {
   "cell_type": "code",
   "execution_count": 38,
   "id": "57e375f8",
   "metadata": {},
   "outputs": [],
   "source": [
    "#Differentiate between expression and statement in Python with examples\n"
   ]
  },
  {
   "cell_type": "markdown",
   "id": "c86a30c2",
   "metadata": {},
   "source": [
    "# Expression"
   ]
  },
  {
   "cell_type": "markdown",
   "id": "339de820",
   "metadata": {},
   "source": [
    "An Expression is a sequence or combination of values, variables, operators and function calls that always produces or returns a result value.\n",
    "\n",
    "Example: x = 5, y = 3, z = x + y"
   ]
  },
  {
   "cell_type": "markdown",
   "id": "0e55f753",
   "metadata": {},
   "source": [
    "# Statement"
   ]
  },
  {
   "cell_type": "markdown",
   "id": "3c1bfd99",
   "metadata": {},
   "source": [
    "A Statement is the smallest executable unit of code that has an effect, like creating a variable or displaying a value.\n",
    "\n",
    "Example : a=10\n",
    "          print(10)\n",
    "    \n"
   ]
  },
  {
   "cell_type": "code",
   "execution_count": null,
   "id": "736ad60b",
   "metadata": {},
   "outputs": [],
   "source": []
  }
 ],
 "metadata": {
  "kernelspec": {
   "display_name": "Python 3 (ipykernel)",
   "language": "python",
   "name": "python3"
  },
  "language_info": {
   "codemirror_mode": {
    "name": "ipython",
    "version": 3
   },
   "file_extension": ".py",
   "mimetype": "text/x-python",
   "name": "python",
   "nbconvert_exporter": "python",
   "pygments_lexer": "ipython3",
   "version": "3.9.7"
  }
 },
 "nbformat": 4,
 "nbformat_minor": 5
}
