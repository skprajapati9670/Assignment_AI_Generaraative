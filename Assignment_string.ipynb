{
 "cells": [
  {
   "cell_type": "code",
   "execution_count": 1,
   "id": "3433fa05",
   "metadata": {},
   "outputs": [],
   "source": [
    "#What is the purpose of the len() function in Python, and how can it be used with strings?"
   ]
  },
  {
   "cell_type": "markdown",
   "id": "2317a1a9",
   "metadata": {},
   "source": [
    "# purpose of the len()"
   ]
  },
  {
   "cell_type": "markdown",
   "id": "4b0afc62",
   "metadata": {},
   "source": [
    "The len() function returns the number of items in an object.\n",
    "When the object is a string, the len() function returns the number of characters in the string.\n",
    "\n"
   ]
  },
  {
   "cell_type": "code",
   "execution_count": 2,
   "id": "705c5618",
   "metadata": {},
   "outputs": [
    {
     "data": {
      "text/plain": [
       "21"
      ]
     },
     "execution_count": 2,
     "metadata": {},
     "output_type": "execute_result"
    }
   ],
   "source": [
    "#Example\n",
    "str1=\"sumit kumar prajapati\"\n",
    "len(str1)"
   ]
  },
  {
   "cell_type": "code",
   "execution_count": 3,
   "id": "750c83cd",
   "metadata": {},
   "outputs": [],
   "source": [
    "#How can you concatenate two or more strings in Python, and can you provide an example of string concatenation?"
   ]
  },
  {
   "cell_type": "markdown",
   "id": "f9f8bbfd",
   "metadata": {},
   "source": [
    "# How can you concatenate two or more strings in Python"
   ]
  },
  {
   "cell_type": "markdown",
   "id": "fc45e7cc",
   "metadata": {},
   "source": [
    "To concatenate, or combine, two strings you can use the + operator."
   ]
  },
  {
   "cell_type": "code",
   "execution_count": 4,
   "id": "0c997529",
   "metadata": {},
   "outputs": [
    {
     "name": "stdout",
     "output_type": "stream",
     "text": [
      "sumitkumar\n"
     ]
    }
   ],
   "source": [
    "#example\n",
    "str1='sumit'\n",
    "str2='kumar'\n",
    "print(str1+str2)"
   ]
  },
  {
   "cell_type": "code",
   "execution_count": 5,
   "id": "4dd8623d",
   "metadata": {},
   "outputs": [],
   "source": [
    "#What is string slicing in Python, and how can you extract a portion of a string using this method?"
   ]
  },
  {
   "cell_type": "markdown",
   "id": "fc913ed5",
   "metadata": {},
   "source": [
    "# String slicing in Python"
   ]
  },
  {
   "cell_type": "markdown",
   "id": "2ce6a6db",
   "metadata": {},
   "source": [
    "Python string slicing is a technique to extract certain parts of a string. It's a feature that allows you to get a substring from a string, from the start index to the end index"
   ]
  },
  {
   "cell_type": "markdown",
   "id": "b081e788",
   "metadata": {},
   "source": [
    "Python slicing can be done in two ways:\n",
    "Using a slice() method\n",
    "Using the array slicing  [:: ] method"
   ]
  },
  {
   "cell_type": "markdown",
   "id": "407090c1",
   "metadata": {},
   "source": [
    "Method 1: Using the slice() method\n",
    "The slice() constructor creates a slice object representing the set of indices specified by range(start, stop, step).\n",
    "\n",
    "Syntax:\n",
    "\n",
    "slice(stop)\n",
    "slice(start, stop, step)"
   ]
  },
  {
   "cell_type": "code",
   "execution_count": 6,
   "id": "802f405f",
   "metadata": {},
   "outputs": [],
   "source": [
    "str1=\"sumit kumar prajpati\""
   ]
  },
  {
   "cell_type": "code",
   "execution_count": 10,
   "id": "086e5be6",
   "metadata": {},
   "outputs": [],
   "source": [
    "a=slice(3)"
   ]
  },
  {
   "cell_type": "code",
   "execution_count": 12,
   "id": "6e7f4e4a",
   "metadata": {},
   "outputs": [
    {
     "name": "stdout",
     "output_type": "stream",
     "text": [
      "sum\n"
     ]
    }
   ],
   "source": [
    "print(str1[a])"
   ]
  },
  {
   "cell_type": "code",
   "execution_count": 13,
   "id": "37a03604",
   "metadata": {},
   "outputs": [
    {
     "name": "stdout",
     "output_type": "stream",
     "text": [
      "ui\n"
     ]
    }
   ],
   "source": [
    "print(str1[slice(1,5,2)])"
   ]
  },
  {
   "cell_type": "markdown",
   "id": "6d0d7dc8",
   "metadata": {},
   "source": [
    "Method 2: Using the List/array slicing  [ :: ]  method\n",
    "In Python, indexing syntax can be used as a substitute for the slice object. This is an easy and convenient way to slice a string using list slicing and Array slicing both syntax-wise and execution-wise. A start, end, and step have the same mechanism as the slice() constructor. "
   ]
  },
  {
   "cell_type": "code",
   "execution_count": 14,
   "id": "44fd7e15",
   "metadata": {},
   "outputs": [
    {
     "data": {
      "text/plain": [
       "'u'"
      ]
     },
     "execution_count": 14,
     "metadata": {},
     "output_type": "execute_result"
    }
   ],
   "source": [
    "str1[1:2]"
   ]
  },
  {
   "cell_type": "code",
   "execution_count": 15,
   "id": "fa9b9650",
   "metadata": {},
   "outputs": [
    {
     "data": {
      "text/plain": [
       "'sumit kumar prajpati'"
      ]
     },
     "execution_count": 15,
     "metadata": {},
     "output_type": "execute_result"
    }
   ],
   "source": [
    "str1[:]"
   ]
  },
  {
   "cell_type": "code",
   "execution_count": 16,
   "id": "9d0db6c5",
   "metadata": {},
   "outputs": [
    {
     "data": {
      "text/plain": [
       "'itapjarp ramuk timus'"
      ]
     },
     "execution_count": 16,
     "metadata": {},
     "output_type": "execute_result"
    }
   ],
   "source": [
    "str1[::-1]"
   ]
  },
  {
   "cell_type": "code",
   "execution_count": 17,
   "id": "e2b6269e",
   "metadata": {},
   "outputs": [
    {
     "data": {
      "text/plain": [
       "'ui ua'"
      ]
     },
     "execution_count": 17,
     "metadata": {},
     "output_type": "execute_result"
    }
   ],
   "source": [
    "str1[1:10:2]"
   ]
  },
  {
   "cell_type": "code",
   "execution_count": 18,
   "id": "94058468",
   "metadata": {},
   "outputs": [],
   "source": [
    "# How can you change the case of a string in Python, and can you provide examples of both making a string all uppercase and all lowercase?"
   ]
  },
  {
   "cell_type": "markdown",
   "id": "054a4a79",
   "metadata": {},
   "source": [
    "upper() method on a string converts all of the characters to uppercase, whereas the lower() method converts all of the characters to lowercase."
   ]
  },
  {
   "cell_type": "code",
   "execution_count": 21,
   "id": "1c957119",
   "metadata": {},
   "outputs": [
    {
     "data": {
      "text/plain": [
       "'SUMIT KUMAR PRAJPATI'"
      ]
     },
     "execution_count": 21,
     "metadata": {},
     "output_type": "execute_result"
    }
   ],
   "source": [
    "#Example\n",
    "str1.upper()"
   ]
  },
  {
   "cell_type": "code",
   "execution_count": 22,
   "id": "7de6652e",
   "metadata": {},
   "outputs": [
    {
     "data": {
      "text/plain": [
       "'sumit kumar prajpati'"
      ]
     },
     "execution_count": 22,
     "metadata": {},
     "output_type": "execute_result"
    }
   ],
   "source": [
    "str1.lower()"
   ]
  },
  {
   "cell_type": "code",
   "execution_count": 23,
   "id": "2045edf9",
   "metadata": {},
   "outputs": [],
   "source": [
    "#What does the split() method do in Python, and how can you split a string using a specific delimiter?"
   ]
  },
  {
   "cell_type": "markdown",
   "id": "aa9e1eac",
   "metadata": {},
   "source": [
    "The split() function can be used to split a given string or a line by specifying one of the substrings of the given string as the delimiter. The string before and after the substring specified as a delimiter is returned as the output."
   ]
  },
  {
   "cell_type": "code",
   "execution_count": 24,
   "id": "36db99b9",
   "metadata": {},
   "outputs": [
    {
     "data": {
      "text/plain": [
       "['sumit', 'kumar', 'prajpati']"
      ]
     },
     "execution_count": 24,
     "metadata": {},
     "output_type": "execute_result"
    }
   ],
   "source": [
    "str1.split()"
   ]
  },
  {
   "cell_type": "code",
   "execution_count": 27,
   "id": "b46bcb0d",
   "metadata": {},
   "outputs": [
    {
     "data": {
      "text/plain": [
       "['s', 'mit k', 'mar prajpati']"
      ]
     },
     "execution_count": 27,
     "metadata": {},
     "output_type": "execute_result"
    }
   ],
   "source": [
    "str1.split('u')"
   ]
  },
  {
   "cell_type": "code",
   "execution_count": null,
   "id": "9e6a82dc",
   "metadata": {},
   "outputs": [],
   "source": []
  }
 ],
 "metadata": {
  "kernelspec": {
   "display_name": "Python 3 (ipykernel)",
   "language": "python",
   "name": "python3"
  },
  "language_info": {
   "codemirror_mode": {
    "name": "ipython",
    "version": 3
   },
   "file_extension": ".py",
   "mimetype": "text/x-python",
   "name": "python",
   "nbconvert_exporter": "python",
   "pygments_lexer": "ipython3",
   "version": "3.9.7"
  }
 },
 "nbformat": 4,
 "nbformat_minor": 5
}
