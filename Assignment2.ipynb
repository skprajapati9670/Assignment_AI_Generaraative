{
 "cells": [
  {
   "cell_type": "code",
   "execution_count": 1,
   "id": "595ad2a9",
   "metadata": {},
   "outputs": [],
   "source": [
    "#Calculate the sum, difference, product, and quotient of two numbers."
   ]
  },
  {
   "cell_type": "code",
   "execution_count": 3,
   "id": "f2bc951e",
   "metadata": {},
   "outputs": [],
   "source": [
    "a=10"
   ]
  },
  {
   "cell_type": "code",
   "execution_count": 4,
   "id": "327abfb3",
   "metadata": {},
   "outputs": [],
   "source": [
    "b=20"
   ]
  },
  {
   "cell_type": "code",
   "execution_count": 5,
   "id": "0bd9cc1c",
   "metadata": {},
   "outputs": [],
   "source": [
    "#sum"
   ]
  },
  {
   "cell_type": "code",
   "execution_count": 6,
   "id": "d99abcb4",
   "metadata": {},
   "outputs": [],
   "source": [
    "c=a+b"
   ]
  },
  {
   "cell_type": "code",
   "execution_count": 7,
   "id": "dd5e3a57",
   "metadata": {},
   "outputs": [
    {
     "data": {
      "text/plain": [
       "30"
      ]
     },
     "execution_count": 7,
     "metadata": {},
     "output_type": "execute_result"
    }
   ],
   "source": [
    "c"
   ]
  },
  {
   "cell_type": "code",
   "execution_count": 8,
   "id": "2f33485d",
   "metadata": {},
   "outputs": [],
   "source": [
    "#difference"
   ]
  },
  {
   "cell_type": "code",
   "execution_count": 9,
   "id": "4bb827ee",
   "metadata": {},
   "outputs": [],
   "source": [
    "c=a-b"
   ]
  },
  {
   "cell_type": "code",
   "execution_count": 12,
   "id": "1b923de1",
   "metadata": {},
   "outputs": [
    {
     "data": {
      "text/plain": [
       "200"
      ]
     },
     "execution_count": 12,
     "metadata": {},
     "output_type": "execute_result"
    }
   ],
   "source": [
    "c"
   ]
  },
  {
   "cell_type": "code",
   "execution_count": 10,
   "id": "fe7ba518",
   "metadata": {},
   "outputs": [],
   "source": [
    "#product"
   ]
  },
  {
   "cell_type": "code",
   "execution_count": 13,
   "id": "d76b9406",
   "metadata": {},
   "outputs": [],
   "source": [
    "c=a*b"
   ]
  },
  {
   "cell_type": "code",
   "execution_count": 14,
   "id": "4bc1cdc4",
   "metadata": {},
   "outputs": [
    {
     "data": {
      "text/plain": [
       "200"
      ]
     },
     "execution_count": 14,
     "metadata": {},
     "output_type": "execute_result"
    }
   ],
   "source": [
    "c"
   ]
  },
  {
   "cell_type": "code",
   "execution_count": 15,
   "id": "2d8e1b32",
   "metadata": {},
   "outputs": [],
   "source": [
    "#quotient"
   ]
  },
  {
   "cell_type": "code",
   "execution_count": 16,
   "id": "b1460c82",
   "metadata": {},
   "outputs": [],
   "source": [
    "c=a//b"
   ]
  },
  {
   "cell_type": "code",
   "execution_count": 17,
   "id": "b3dce01d",
   "metadata": {},
   "outputs": [
    {
     "data": {
      "text/plain": [
       "0"
      ]
     },
     "execution_count": 17,
     "metadata": {},
     "output_type": "execute_result"
    }
   ],
   "source": [
    "c"
   ]
  },
  {
   "cell_type": "code",
   "execution_count": 18,
   "id": "17871c61",
   "metadata": {},
   "outputs": [],
   "source": [
    "#Perform Various assignment operations on a Variable."
   ]
  },
  {
   "cell_type": "code",
   "execution_count": 19,
   "id": "4cfe36cc",
   "metadata": {},
   "outputs": [],
   "source": [
    "#assignment operations"
   ]
  },
  {
   "cell_type": "code",
   "execution_count": 32,
   "id": "33f3708c",
   "metadata": {},
   "outputs": [],
   "source": [
    "x=10\n",
    "y=20"
   ]
  },
  {
   "cell_type": "code",
   "execution_count": 33,
   "id": "a3a84513",
   "metadata": {},
   "outputs": [],
   "source": [
    "# Add and Assign"
   ]
  },
  {
   "cell_type": "code",
   "execution_count": 34,
   "id": "45d5276c",
   "metadata": {},
   "outputs": [],
   "source": [
    "x+=y"
   ]
  },
  {
   "cell_type": "code",
   "execution_count": 35,
   "id": "fc8869c1",
   "metadata": {},
   "outputs": [
    {
     "data": {
      "text/plain": [
       "30"
      ]
     },
     "execution_count": 35,
     "metadata": {},
     "output_type": "execute_result"
    }
   ],
   "source": [
    "x"
   ]
  },
  {
   "cell_type": "code",
   "execution_count": 36,
   "id": "3caf0436",
   "metadata": {},
   "outputs": [],
   "source": [
    "# sub and Assign"
   ]
  },
  {
   "cell_type": "code",
   "execution_count": 37,
   "id": "51e7c553",
   "metadata": {},
   "outputs": [],
   "source": [
    "x-=y"
   ]
  },
  {
   "cell_type": "code",
   "execution_count": 38,
   "id": "5b5b9ca1",
   "metadata": {},
   "outputs": [
    {
     "data": {
      "text/plain": [
       "10"
      ]
     },
     "execution_count": 38,
     "metadata": {},
     "output_type": "execute_result"
    }
   ],
   "source": [
    "x"
   ]
  },
  {
   "cell_type": "code",
   "execution_count": 39,
   "id": "532ce55b",
   "metadata": {},
   "outputs": [],
   "source": [
    "#mul and Assign"
   ]
  },
  {
   "cell_type": "code",
   "execution_count": 40,
   "id": "8f36c871",
   "metadata": {},
   "outputs": [],
   "source": [
    "x*=y"
   ]
  },
  {
   "cell_type": "code",
   "execution_count": 41,
   "id": "cb50560e",
   "metadata": {},
   "outputs": [
    {
     "data": {
      "text/plain": [
       "200"
      ]
     },
     "execution_count": 41,
     "metadata": {},
     "output_type": "execute_result"
    }
   ],
   "source": [
    "x"
   ]
  },
  {
   "cell_type": "code",
   "execution_count": 42,
   "id": "78e05ff9",
   "metadata": {},
   "outputs": [],
   "source": [
    "# Div and Assign"
   ]
  },
  {
   "cell_type": "code",
   "execution_count": 43,
   "id": "2515d6e4",
   "metadata": {},
   "outputs": [],
   "source": [
    "x/=y"
   ]
  },
  {
   "cell_type": "code",
   "execution_count": 44,
   "id": "639bc742",
   "metadata": {},
   "outputs": [
    {
     "data": {
      "text/plain": [
       "10.0"
      ]
     },
     "execution_count": 44,
     "metadata": {},
     "output_type": "execute_result"
    }
   ],
   "source": [
    "x"
   ]
  },
  {
   "cell_type": "code",
   "execution_count": 45,
   "id": "fe611bc6",
   "metadata": {},
   "outputs": [],
   "source": [
    "#Modulus and Assign"
   ]
  },
  {
   "cell_type": "code",
   "execution_count": 50,
   "id": "2ac9cc8f",
   "metadata": {},
   "outputs": [],
   "source": [
    "d=20\n",
    "e=30"
   ]
  },
  {
   "cell_type": "code",
   "execution_count": 51,
   "id": "d2e26179",
   "metadata": {},
   "outputs": [],
   "source": [
    "d%=e"
   ]
  },
  {
   "cell_type": "code",
   "execution_count": 53,
   "id": "f3687d1c",
   "metadata": {},
   "outputs": [
    {
     "data": {
      "text/plain": [
       "20"
      ]
     },
     "execution_count": 53,
     "metadata": {},
     "output_type": "execute_result"
    }
   ],
   "source": [
    "d"
   ]
  },
  {
   "cell_type": "code",
   "execution_count": 54,
   "id": "9363569a",
   "metadata": {},
   "outputs": [],
   "source": [
    "#Divide (floor) and Assign"
   ]
  },
  {
   "cell_type": "code",
   "execution_count": 55,
   "id": "c43f01ae",
   "metadata": {},
   "outputs": [],
   "source": [
    "d//=e"
   ]
  },
  {
   "cell_type": "code",
   "execution_count": 56,
   "id": "7d53f667",
   "metadata": {},
   "outputs": [
    {
     "data": {
      "text/plain": [
       "0"
      ]
     },
     "execution_count": 56,
     "metadata": {},
     "output_type": "execute_result"
    }
   ],
   "source": [
    "d"
   ]
  },
  {
   "cell_type": "code",
   "execution_count": 57,
   "id": "ea247dad",
   "metadata": {},
   "outputs": [],
   "source": [
    "#Exponent and Assign"
   ]
  },
  {
   "cell_type": "code",
   "execution_count": 60,
   "id": "de54a175",
   "metadata": {},
   "outputs": [],
   "source": [
    "x=2\n",
    "y=3"
   ]
  },
  {
   "cell_type": "code",
   "execution_count": 61,
   "id": "82c1704d",
   "metadata": {},
   "outputs": [
    {
     "data": {
      "text/plain": [
       "8"
      ]
     },
     "execution_count": 61,
     "metadata": {},
     "output_type": "execute_result"
    }
   ],
   "source": [
    "x**y"
   ]
  },
  {
   "cell_type": "code",
   "execution_count": 62,
   "id": "f87a0720",
   "metadata": {},
   "outputs": [],
   "source": [
    "#Bitwise AND and Assign"
   ]
  },
  {
   "cell_type": "code",
   "execution_count": 63,
   "id": "5e6e1ca2",
   "metadata": {},
   "outputs": [],
   "source": [
    "x&=y"
   ]
  },
  {
   "cell_type": "code",
   "execution_count": 64,
   "id": "d412c54b",
   "metadata": {},
   "outputs": [
    {
     "data": {
      "text/plain": [
       "2"
      ]
     },
     "execution_count": 64,
     "metadata": {},
     "output_type": "execute_result"
    }
   ],
   "source": [
    "x"
   ]
  },
  {
   "cell_type": "code",
   "execution_count": 65,
   "id": "e9bf242f",
   "metadata": {},
   "outputs": [],
   "source": [
    "#Bitwise OR and Assign"
   ]
  },
  {
   "cell_type": "code",
   "execution_count": 66,
   "id": "7aa77fba",
   "metadata": {},
   "outputs": [],
   "source": [
    "x|=y"
   ]
  },
  {
   "cell_type": "code",
   "execution_count": 67,
   "id": "4fed7e11",
   "metadata": {},
   "outputs": [
    {
     "data": {
      "text/plain": [
       "3"
      ]
     },
     "execution_count": 67,
     "metadata": {},
     "output_type": "execute_result"
    }
   ],
   "source": [
    "x"
   ]
  },
  {
   "cell_type": "code",
   "execution_count": 68,
   "id": "999f4e95",
   "metadata": {},
   "outputs": [],
   "source": [
    "#Bitwise XOR and Assign"
   ]
  },
  {
   "cell_type": "code",
   "execution_count": 69,
   "id": "8580567d",
   "metadata": {},
   "outputs": [],
   "source": [
    "x^=y"
   ]
  },
  {
   "cell_type": "code",
   "execution_count": 70,
   "id": "e2ac50f2",
   "metadata": {},
   "outputs": [
    {
     "data": {
      "text/plain": [
       "0"
      ]
     },
     "execution_count": 70,
     "metadata": {},
     "output_type": "execute_result"
    }
   ],
   "source": [
    "x"
   ]
  },
  {
   "cell_type": "code",
   "execution_count": 71,
   "id": "be1679a2",
   "metadata": {},
   "outputs": [],
   "source": [
    "#Compare two numbers and print the results"
   ]
  },
  {
   "cell_type": "code",
   "execution_count": 72,
   "id": "6ab69f41",
   "metadata": {},
   "outputs": [],
   "source": [
    "a=20\n",
    "b=300"
   ]
  },
  {
   "cell_type": "code",
   "execution_count": 75,
   "id": "17d7b28e",
   "metadata": {},
   "outputs": [
    {
     "data": {
      "text/plain": [
       "False"
      ]
     },
     "execution_count": 75,
     "metadata": {},
     "output_type": "execute_result"
    }
   ],
   "source": [
    "a==b"
   ]
  },
  {
   "cell_type": "code",
   "execution_count": 76,
   "id": "b02b84ba",
   "metadata": {},
   "outputs": [
    {
     "data": {
      "text/plain": [
       "False"
      ]
     },
     "execution_count": 76,
     "metadata": {},
     "output_type": "execute_result"
    }
   ],
   "source": [
    "a>b"
   ]
  },
  {
   "cell_type": "code",
   "execution_count": 77,
   "id": "6462bca5",
   "metadata": {},
   "outputs": [
    {
     "name": "stdout",
     "output_type": "stream",
     "text": [
      "b grater than a\n"
     ]
    }
   ],
   "source": [
    "if(a>b):\n",
    "    print(\"a grater than b \")\n",
    "else:\n",
    "    print(\"b grater than a\")"
   ]
  },
  {
   "cell_type": "code",
   "execution_count": 78,
   "id": "4b0b2a4c",
   "metadata": {},
   "outputs": [],
   "source": [
    "#Check conditions using logical operators."
   ]
  },
  {
   "cell_type": "code",
   "execution_count": 85,
   "id": "cb549092",
   "metadata": {},
   "outputs": [],
   "source": [
    "a=10"
   ]
  },
  {
   "cell_type": "code",
   "execution_count": 87,
   "id": "1d1b0c2d",
   "metadata": {},
   "outputs": [
    {
     "name": "stdout",
     "output_type": "stream",
     "text": [
      "Under condition\n"
     ]
    }
   ],
   "source": [
    "if (a>5 and a<15):\n",
    "    print(\"Under condition\")\n",
    "else:\n",
    "    print(\"no\")"
   ]
  },
  {
   "cell_type": "code",
   "execution_count": 90,
   "id": "1d2e5349",
   "metadata": {},
   "outputs": [
    {
     "name": "stdout",
     "output_type": "stream",
     "text": [
      "no\n"
     ]
    }
   ],
   "source": [
    "if (a>15 or a<0):\n",
    "    print(\"Under condition\")\n",
    "else:\n",
    "    print(\"no\")"
   ]
  },
  {
   "cell_type": "code",
   "execution_count": 94,
   "id": "99dce30e",
   "metadata": {},
   "outputs": [],
   "source": [
    "a=10\n",
    "b=20"
   ]
  },
  {
   "cell_type": "code",
   "execution_count": 96,
   "id": "88c360ee",
   "metadata": {},
   "outputs": [
    {
     "data": {
      "text/plain": [
       "True"
      ]
     },
     "execution_count": 96,
     "metadata": {},
     "output_type": "execute_result"
    }
   ],
   "source": [
    "not a>b"
   ]
  },
  {
   "cell_type": "code",
   "execution_count": 97,
   "id": "a7fd7af7",
   "metadata": {},
   "outputs": [],
   "source": [
    "#Check the identity of Variables"
   ]
  },
  {
   "cell_type": "code",
   "execution_count": 98,
   "id": "5d49ebc4",
   "metadata": {},
   "outputs": [],
   "source": [
    "a=10"
   ]
  },
  {
   "cell_type": "code",
   "execution_count": 99,
   "id": "ba6db5b7",
   "metadata": {},
   "outputs": [
    {
     "data": {
      "text/plain": [
       "int"
      ]
     },
     "execution_count": 99,
     "metadata": {},
     "output_type": "execute_result"
    }
   ],
   "source": [
    "type(a)"
   ]
  },
  {
   "cell_type": "code",
   "execution_count": 100,
   "id": "705c3f37",
   "metadata": {},
   "outputs": [],
   "source": [
    "b=\"sumit\""
   ]
  },
  {
   "cell_type": "code",
   "execution_count": 101,
   "id": "0105ae69",
   "metadata": {},
   "outputs": [
    {
     "data": {
      "text/plain": [
       "str"
      ]
     },
     "execution_count": 101,
     "metadata": {},
     "output_type": "execute_result"
    }
   ],
   "source": [
    "type(b)"
   ]
  },
  {
   "cell_type": "code",
   "execution_count": 102,
   "id": "de5a061a",
   "metadata": {},
   "outputs": [],
   "source": [
    "c=140.52"
   ]
  },
  {
   "cell_type": "code",
   "execution_count": 103,
   "id": "cf6e62f5",
   "metadata": {},
   "outputs": [
    {
     "data": {
      "text/plain": [
       "float"
      ]
     },
     "execution_count": 103,
     "metadata": {},
     "output_type": "execute_result"
    }
   ],
   "source": [
    "type(c)"
   ]
  },
  {
   "cell_type": "code",
   "execution_count": 104,
   "id": "b060cdea",
   "metadata": {},
   "outputs": [],
   "source": [
    "#Perform bitwise operations on any two integers."
   ]
  },
  {
   "cell_type": "code",
   "execution_count": 105,
   "id": "05288786",
   "metadata": {},
   "outputs": [],
   "source": [
    "a=5"
   ]
  },
  {
   "cell_type": "code",
   "execution_count": 106,
   "id": "b2e4dc06",
   "metadata": {},
   "outputs": [],
   "source": [
    "b=6"
   ]
  },
  {
   "cell_type": "code",
   "execution_count": 107,
   "id": "963790d0",
   "metadata": {},
   "outputs": [
    {
     "data": {
      "text/plain": [
       "4"
      ]
     },
     "execution_count": 107,
     "metadata": {},
     "output_type": "execute_result"
    }
   ],
   "source": [
    "a&b"
   ]
  },
  {
   "cell_type": "code",
   "execution_count": 108,
   "id": "3d162a89",
   "metadata": {},
   "outputs": [
    {
     "data": {
      "text/plain": [
       "7"
      ]
     },
     "execution_count": 108,
     "metadata": {},
     "output_type": "execute_result"
    }
   ],
   "source": [
    "a|b"
   ]
  },
  {
   "cell_type": "code",
   "execution_count": 109,
   "id": "d1e627b5",
   "metadata": {},
   "outputs": [
    {
     "data": {
      "text/plain": [
       "3"
      ]
     },
     "execution_count": 109,
     "metadata": {},
     "output_type": "execute_result"
    }
   ],
   "source": [
    "a^b"
   ]
  },
  {
   "cell_type": "code",
   "execution_count": 111,
   "id": "b8f927f2",
   "metadata": {},
   "outputs": [
    {
     "data": {
      "text/plain": [
       "-6"
      ]
     },
     "execution_count": 111,
     "metadata": {},
     "output_type": "execute_result"
    }
   ],
   "source": [
    "~a"
   ]
  },
  {
   "cell_type": "code",
   "execution_count": 112,
   "id": "a8363619",
   "metadata": {},
   "outputs": [],
   "source": [
    "a=10\n",
    "b=20\n",
    "a,b=b,a\n"
   ]
  },
  {
   "cell_type": "code",
   "execution_count": 113,
   "id": "19d14d0c",
   "metadata": {},
   "outputs": [],
   "source": [
    "a=a^b\n",
    "b=a^b\n",
    "a=a^b"
   ]
  },
  {
   "cell_type": "code",
   "execution_count": 114,
   "id": "34655542",
   "metadata": {},
   "outputs": [
    {
     "data": {
      "text/plain": [
       "10"
      ]
     },
     "execution_count": 114,
     "metadata": {},
     "output_type": "execute_result"
    }
   ],
   "source": [
    "a"
   ]
  },
  {
   "cell_type": "code",
   "execution_count": 115,
   "id": "00f83030",
   "metadata": {},
   "outputs": [
    {
     "data": {
      "text/plain": [
       "20"
      ]
     },
     "execution_count": 115,
     "metadata": {},
     "output_type": "execute_result"
    }
   ],
   "source": [
    "b"
   ]
  },
  {
   "cell_type": "code",
   "execution_count": 116,
   "id": "9d62995c",
   "metadata": {},
   "outputs": [
    {
     "data": {
      "text/plain": [
       "0"
      ]
     },
     "execution_count": 116,
     "metadata": {},
     "output_type": "execute_result"
    }
   ],
   "source": [
    "a>>b"
   ]
  },
  {
   "cell_type": "code",
   "execution_count": 117,
   "id": "68109625",
   "metadata": {},
   "outputs": [
    {
     "data": {
      "text/plain": [
       "10485760"
      ]
     },
     "execution_count": 117,
     "metadata": {},
     "output_type": "execute_result"
    }
   ],
   "source": [
    "a<<b"
   ]
  },
  {
   "cell_type": "code",
   "execution_count": 118,
   "id": "67d81b97",
   "metadata": {},
   "outputs": [],
   "source": [
    "#Use Unary operators to change the sign of a number."
   ]
  },
  {
   "cell_type": "code",
   "execution_count": 119,
   "id": "451bab2b",
   "metadata": {},
   "outputs": [],
   "source": [
    "a=10\n"
   ]
  },
  {
   "cell_type": "code",
   "execution_count": 120,
   "id": "eae7ee13",
   "metadata": {},
   "outputs": [],
   "source": [
    "a=-a"
   ]
  },
  {
   "cell_type": "code",
   "execution_count": 121,
   "id": "8e6d6d5a",
   "metadata": {},
   "outputs": [
    {
     "data": {
      "text/plain": [
       "-10"
      ]
     },
     "execution_count": 121,
     "metadata": {},
     "output_type": "execute_result"
    }
   ],
   "source": [
    "a"
   ]
  },
  {
   "cell_type": "code",
   "execution_count": 124,
   "id": "83b34f58",
   "metadata": {},
   "outputs": [],
   "source": [
    "#Use the ternary operator to assign @al$es based on conditions."
   ]
  },
  {
   "cell_type": "code",
   "execution_count": 123,
   "id": "9123cfa3",
   "metadata": {},
   "outputs": [
    {
     "name": "stdout",
     "output_type": "stream",
     "text": [
      "Next level\n"
     ]
    }
   ],
   "source": [
    "user_score = 90\n",
    "\n",
    "print(\"Next level\") if user_score > 50 else print(\"Repeat level\")"
   ]
  },
  {
   "cell_type": "code",
   "execution_count": 127,
   "id": "e319d621",
   "metadata": {},
   "outputs": [],
   "source": [
    "a=3"
   ]
  },
  {
   "cell_type": "code",
   "execution_count": 128,
   "id": "3dc428ed",
   "metadata": {},
   "outputs": [
    {
     "name": "stdout",
     "output_type": "stream",
     "text": [
      "odd number\n"
     ]
    }
   ],
   "source": [
    "print(\"even number\") if a%2==0 else print(\"odd number\")"
   ]
  },
  {
   "cell_type": "code",
   "execution_count": null,
   "id": "babf1fc0",
   "metadata": {},
   "outputs": [],
   "source": []
  }
 ],
 "metadata": {
  "kernelspec": {
   "display_name": "Python 3 (ipykernel)",
   "language": "python",
   "name": "python3"
  },
  "language_info": {
   "codemirror_mode": {
    "name": "ipython",
    "version": 3
   },
   "file_extension": ".py",
   "mimetype": "text/x-python",
   "name": "python",
   "nbconvert_exporter": "python",
   "pygments_lexer": "ipython3",
   "version": "3.9.7"
  }
 },
 "nbformat": 4,
 "nbformat_minor": 5
}
