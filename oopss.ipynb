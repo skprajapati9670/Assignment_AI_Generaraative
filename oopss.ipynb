{
 "cells": [
  {
   "cell_type": "markdown",
   "id": "9d02abf3",
   "metadata": {},
   "source": [
    "# 1.Explain the importance of Functions "
   ]
  },
  {
   "cell_type": "raw",
   "id": "696ad158",
   "metadata": {},
   "source": [
    "Functions in Python are important because they promote code reuse, modularity, and abstraction. They allow you to break down complex tasks into smaller, manageable pieces, making your code more organized, readable, and maintainable. Additionally, functions facilitate testing and debugging by isolating specific pieces of functionality, and they help adhere to coding principles like the DRY (Don't Repeat Yourself) principle. Overall, functions are fundamental for writing clean, efficient, and scalable Python code."
   ]
  },
  {
   "cell_type": "markdown",
   "id": "1762c098",
   "metadata": {},
   "source": [
    "# 2. Write a basic function to greet students."
   ]
  },
  {
   "cell_type": "code",
   "execution_count": 1,
   "id": "d43a760d",
   "metadata": {},
   "outputs": [
    {
     "name": "stdout",
     "output_type": "stream",
     "text": [
      "Hello sumit\n"
     ]
    }
   ],
   "source": [
    "def greet_students(student_name):\n",
    "    print(f\"Hello {student_name}\")\n",
    "greet_students(\"sumit\")"
   ]
  },
  {
   "cell_type": "code",
   "execution_count": 2,
   "id": "ed6fdc26",
   "metadata": {},
   "outputs": [
    {
     "name": "stdout",
     "output_type": "stream",
     "text": [
      "Hello amit\n"
     ]
    }
   ],
   "source": [
    "greet_students(\"amit\")"
   ]
  },
  {
   "cell_type": "markdown",
   "id": "2a2b2aa4",
   "metadata": {},
   "source": [
    "# 3.What is the difference between print and return statements?"
   ]
  },
  {
   "cell_type": "raw",
   "id": "7fec3337",
   "metadata": {},
   "source": [
    "print statement:\n",
    "print is used to display output to the console or terminal.\n",
    "It is primarily used for debugging, providing information to the user, or visualizing intermediate results.\n",
    "print does not affect the flow of the program; it simply outputs the specified values and continues executing the subsequent code."
   ]
  },
  {
   "cell_type": "raw",
   "id": "a7e6de84",
   "metadata": {},
   "source": [
    "return statement:\n",
    "return is used to exit a function and return a value back to the caller.\n",
    "It allows a function to produce a result that can be stored in a variable or used in further computation.\n",
    "Once a return statement is encountered in a function, it immediately stops the execution of that function and passes the specified value back to the caller."
   ]
  },
  {
   "cell_type": "markdown",
   "id": "667b5827",
   "metadata": {},
   "source": [
    "# 4. What are \"args and **kwargs?"
   ]
  },
  {
   "cell_type": "raw",
   "id": "d5394dc1",
   "metadata": {},
   "source": [
    "*args (Arbitrary Arguments):\n",
    "\n",
    "The *args parameter allows a function to accept any number of positional arguments.\n",
    "When *args is used in a function definition, it collects all the positional arguments passed to the function into a tuple.\n",
    "It's typically used when you're unsure about the number of arguments that will be passed to a function."
   ]
  },
  {
   "cell_type": "raw",
   "id": "00a17e4b",
   "metadata": {},
   "source": [
    "**kwargs (Arbitrary Keyword Arguments):\n",
    "\n",
    "The **kwargs parameter allows a function to accept any number of keyword arguments as a dictionary.\n",
    "When **kwargs is used in a function definition, it collects all the keyword arguments passed to the function into a dictionary where the keys are the argument names and the values are the corresponding values.\n",
    "It's commonly used when you need to handle named arguments with varying names or when you want to pass a large number of arguments to a function in a more readable way."
   ]
  },
  {
   "cell_type": "markdown",
   "id": "1ea37a7a",
   "metadata": {},
   "source": [
    "# 5. Explain the iterator function."
   ]
  },
  {
   "cell_type": "raw",
   "id": "9f36b2bc",
   "metadata": {},
   "source": [
    "An iterator in Python is an object that allows iteration over a sequence of data. It implements the iterator protocol, consisting of the __iter__() and __next__() methods. The __iter__() method returns the iterator object itself, while __next__() returns the next item from the sequence. Iterators are commonly used to traverse through data structures like lists, tuples, dictionaries, and strings. They provide a uniform way to access elements regardless of the internal structure of the sequence."
   ]
  },
  {
   "cell_type": "markdown",
   "id": "6a0ddd07",
   "metadata": {},
   "source": [
    "# 6. Write a code that generates the squares of numbers from 1 to n using a generator"
   ]
  },
  {
   "cell_type": "code",
   "execution_count": 3,
   "id": "58c44f86",
   "metadata": {},
   "outputs": [
    {
     "name": "stdout",
     "output_type": "stream",
     "text": [
      "1\n",
      "4\n",
      "9\n",
      "16\n",
      "25\n",
      "36\n",
      "49\n",
      "64\n",
      "81\n",
      "100\n"
     ]
    }
   ],
   "source": [
    "def generator_squares(n):\n",
    "    for i in range(1,n+1):\n",
    "         yield i**2\n",
    "n=10\n",
    "for n in generator_squares(n):\n",
    "    print(n)"
   ]
  },
  {
   "cell_type": "markdown",
   "id": "4077f242",
   "metadata": {},
   "source": [
    "# 7. Write a code that generates palindromic numbers up to n using a generator."
   ]
  },
  {
   "cell_type": "code",
   "execution_count": 4,
   "id": "0c3f32e6",
   "metadata": {},
   "outputs": [
    {
     "name": "stdout",
     "output_type": "stream",
     "text": [
      "1\n",
      "2\n",
      "3\n",
      "4\n",
      "5\n",
      "6\n",
      "7\n",
      "8\n",
      "9\n",
      "11\n",
      "22\n",
      "33\n",
      "44\n"
     ]
    }
   ],
   "source": [
    "def palindrome(n):\n",
    "    return str(n)==str(n)[::-1]\n",
    "\n",
    "def generates_palindrome(num):\n",
    "    for num in range(1,num+1):\n",
    "        if palindrome(num):\n",
    "            yield num\n",
    "        \n",
    "num=50\n",
    "for i in generates_palindrome(num):\n",
    "    print(i)"
   ]
  },
  {
   "cell_type": "markdown",
   "id": "943f453e",
   "metadata": {},
   "source": [
    "# 8. Write a code that generates even numbers from 2 to n using a generator"
   ]
  },
  {
   "cell_type": "code",
   "execution_count": 5,
   "id": "62a50a1f",
   "metadata": {},
   "outputs": [
    {
     "name": "stdout",
     "output_type": "stream",
     "text": [
      "2\n",
      "4\n",
      "6\n",
      "8\n",
      "10\n"
     ]
    }
   ],
   "source": [
    "def generates_even_numbers(num):\n",
    "    for num in range(1,num+1):\n",
    "        if(num%2==0):\n",
    "            yield num\n",
    "    \n",
    "num=10\n",
    "for n in generates_even_numbers(num):\n",
    "    print(n)"
   ]
  },
  {
   "cell_type": "markdown",
   "id": "42a86daa",
   "metadata": {},
   "source": [
    "# 9. Write a code that generates powers of two up to n using a generator."
   ]
  },
  {
   "cell_type": "code",
   "execution_count": 6,
   "id": "e72a731c",
   "metadata": {},
   "outputs": [
    {
     "name": "stdout",
     "output_type": "stream",
     "text": [
      "1\n",
      "4\n",
      "9\n",
      "16\n",
      "25\n",
      "36\n",
      "49\n",
      "64\n",
      "81\n",
      "100\n"
     ]
    }
   ],
   "source": [
    "def generates_powers(num):\n",
    "    for i in range(1,num+1):\n",
    "        p=i*i\n",
    "        yield p\n",
    "num=10\n",
    "for n in generates_powers(num):\n",
    "    print(n)"
   ]
  },
  {
   "cell_type": "markdown",
   "id": "8f736aba",
   "metadata": {},
   "source": [
    "# 10. Write a code that generates prime numbers up to n using a generator."
   ]
  },
  {
   "cell_type": "code",
   "execution_count": 7,
   "id": "151a7862",
   "metadata": {},
   "outputs": [
    {
     "name": "stdout",
     "output_type": "stream",
     "text": [
      "2\n",
      "3\n",
      "5\n",
      "7\n",
      "11\n",
      "13\n",
      "17\n",
      "19\n",
      "23\n",
      "29\n",
      "31\n",
      "37\n",
      "41\n",
      "43\n",
      "47\n"
     ]
    }
   ],
   "source": [
    "def generate_primes(n):\n",
    "    for num in range(2, n + 1):\n",
    "        is_prime = True\n",
    "        for i in range(2, int(num ** 0.5) + 1):\n",
    "            if num % i == 0:\n",
    "                is_prime = False\n",
    "                break\n",
    "        if is_prime:\n",
    "            yield num\n",
    "n = 50\n",
    "for prime in generate_primes(n):\n",
    "    print(prime)\n"
   ]
  },
  {
   "cell_type": "markdown",
   "id": "32c531de",
   "metadata": {},
   "source": [
    "# 11. Write a code that uses a lambda function to calculate the sum of two numbers."
   ]
  },
  {
   "cell_type": "code",
   "execution_count": 8,
   "id": "46c9f37b",
   "metadata": {},
   "outputs": [],
   "source": [
    "sum=lambda x,y:x+y"
   ]
  },
  {
   "cell_type": "code",
   "execution_count": 9,
   "id": "8d2743f5",
   "metadata": {},
   "outputs": [
    {
     "data": {
      "text/plain": [
       "30"
      ]
     },
     "execution_count": 9,
     "metadata": {},
     "output_type": "execute_result"
    }
   ],
   "source": [
    "sum(10,20)"
   ]
  },
  {
   "cell_type": "markdown",
   "id": "e2a19a7e",
   "metadata": {},
   "source": [
    "# 12. Write a code that uses a lambda function to calculate the square of a given number.\n"
   ]
  },
  {
   "cell_type": "code",
   "execution_count": 10,
   "id": "7b16a011",
   "metadata": {},
   "outputs": [],
   "source": [
    "square=lambda a:a*a"
   ]
  },
  {
   "cell_type": "code",
   "execution_count": 11,
   "id": "5f32a04c",
   "metadata": {},
   "outputs": [
    {
     "name": "stdout",
     "output_type": "stream",
     "text": [
      "100\n",
      "400\n",
      "900\n"
     ]
    }
   ],
   "source": [
    "print(square(10))\n",
    "print(square(20))\n",
    "print(square(30))"
   ]
  },
  {
   "cell_type": "markdown",
   "id": "32b37883",
   "metadata": {},
   "source": [
    "# 13. Write a code that uses a lambda function to check whether a given number is even or odd."
   ]
  },
  {
   "cell_type": "code",
   "execution_count": 12,
   "id": "c50c313f",
   "metadata": {},
   "outputs": [],
   "source": [
    "even_odd_num=lambda x:\"Even\" if x%2==0 else \"odd\""
   ]
  },
  {
   "cell_type": "code",
   "execution_count": 13,
   "id": "fa0aed66",
   "metadata": {},
   "outputs": [
    {
     "data": {
      "text/plain": [
       "'Even'"
      ]
     },
     "execution_count": 13,
     "metadata": {},
     "output_type": "execute_result"
    }
   ],
   "source": [
    "even_odd_num(20)"
   ]
  },
  {
   "cell_type": "code",
   "execution_count": 14,
   "id": "bcfe007d",
   "metadata": {},
   "outputs": [
    {
     "data": {
      "text/plain": [
       "'odd'"
      ]
     },
     "execution_count": 14,
     "metadata": {},
     "output_type": "execute_result"
    }
   ],
   "source": [
    "even_odd_num(5)"
   ]
  },
  {
   "cell_type": "markdown",
   "id": "27669014",
   "metadata": {},
   "source": [
    "# 15. Write a code that uses a lambda function to concatenate two strings."
   ]
  },
  {
   "cell_type": "code",
   "execution_count": 15,
   "id": "7afb43b2",
   "metadata": {},
   "outputs": [],
   "source": [
    "concatenate=lambda str1,str2: str1 + str2"
   ]
  },
  {
   "cell_type": "code",
   "execution_count": 16,
   "id": "cf70f2f9",
   "metadata": {},
   "outputs": [
    {
     "data": {
      "text/plain": [
       "'sumitPrajapati'"
      ]
     },
     "execution_count": 16,
     "metadata": {},
     "output_type": "execute_result"
    }
   ],
   "source": [
    "concatenate(\"sumit\",\"Prajapati\")"
   ]
  },
  {
   "cell_type": "markdown",
   "id": "050cece4",
   "metadata": {},
   "source": [
    "# 16. Write a code that uses a lambda function to find the maximum of three given numbers."
   ]
  },
  {
   "cell_type": "code",
   "execution_count": 17,
   "id": "7d64d012",
   "metadata": {},
   "outputs": [],
   "source": [
    "find_max=lambda x,y,z : max(x,y,z)"
   ]
  },
  {
   "cell_type": "code",
   "execution_count": 18,
   "id": "36392603",
   "metadata": {},
   "outputs": [
    {
     "data": {
      "text/plain": [
       "400"
      ]
     },
     "execution_count": 18,
     "metadata": {},
     "output_type": "execute_result"
    }
   ],
   "source": [
    "find_max(10,20,400)"
   ]
  },
  {
   "cell_type": "markdown",
   "id": "bfcaaaae",
   "metadata": {},
   "source": [
    "# 17. Write a code that generates the squares of even numbers from a given list."
   ]
  },
  {
   "cell_type": "code",
   "execution_count": 19,
   "id": "7b7b0bc9",
   "metadata": {},
   "outputs": [
    {
     "name": "stdout",
     "output_type": "stream",
     "text": [
      "4\n",
      "16\n",
      "36\n",
      "64\n"
     ]
    }
   ],
   "source": [
    "list=[1,2,3,4,5,6,7,8]\n",
    "for i in list:\n",
    "    if i%2==0:\n",
    "        s=i**2\n",
    "        print(s)\n"
   ]
  },
  {
   "cell_type": "code",
   "execution_count": 20,
   "id": "96e88d93",
   "metadata": {},
   "outputs": [],
   "source": [
    "list1=[1,2,3,4,5,6,7,8]\n",
    "square=map(lambda x:x**2,filter(lambda x:x%2==0,list1))"
   ]
  },
  {
   "cell_type": "code",
   "execution_count": 21,
   "id": "887516c5",
   "metadata": {},
   "outputs": [
    {
     "data": {
      "text/plain": [
       "(4, 16, 36, 64)"
      ]
     },
     "execution_count": 21,
     "metadata": {},
     "output_type": "execute_result"
    }
   ],
   "source": [
    "tuple(square)"
   ]
  },
  {
   "cell_type": "markdown",
   "id": "cde7f4e2",
   "metadata": {},
   "source": [
    "# 18. Write a code that calculates the product of positive numbers from a given list."
   ]
  },
  {
   "cell_type": "code",
   "execution_count": 22,
   "id": "010a769b",
   "metadata": {},
   "outputs": [
    {
     "name": "stdout",
     "output_type": "stream",
     "text": [
      "1008\n"
     ]
    }
   ],
   "source": [
    "from functools import reduce\n",
    "num=[1,2,-3,-4,-6,7,8,9]\n",
    "product_of_positives=reduce(lambda x,y:x*y,filter(lambda x:x>0,num))\n",
    "print(product_of_positives)"
   ]
  },
  {
   "cell_type": "markdown",
   "id": "daacdc09",
   "metadata": {},
   "source": [
    "# 19. Write a code that doubles the values of odd numbe from a aiven list."
   ]
  },
  {
   "cell_type": "code",
   "execution_count": 23,
   "id": "77c08d12",
   "metadata": {},
   "outputs": [
    {
     "name": "stdout",
     "output_type": "stream",
     "text": [
      "Doubled values of odd numbers: <map object at 0x000001A778D6E640>\n"
     ]
    }
   ],
   "source": [
    "numbers = [1, 2, 3, 4, 5, 6, 7, 8, 9, 10]\n",
    "\n",
    "doubled_odd_numbers = map(lambda x: x * 2 if x % 2 != 0 else x, numbers)\n",
    "print(\"Doubled values of odd numbers:\", doubled_odd_numbers)\n"
   ]
  },
  {
   "cell_type": "code",
   "execution_count": 24,
   "id": "b5f6226d",
   "metadata": {},
   "outputs": [
    {
     "data": {
      "text/plain": [
       "(2, 2, 6, 4, 10, 6, 14, 8, 18, 10)"
      ]
     },
     "execution_count": 24,
     "metadata": {},
     "output_type": "execute_result"
    }
   ],
   "source": [
    "tuple(doubled_odd_numbers)"
   ]
  },
  {
   "cell_type": "markdown",
   "id": "555903a3",
   "metadata": {},
   "source": [
    "# 20. Write a code that calculates the sum of cubes of numbers from a given list."
   ]
  },
  {
   "cell_type": "code",
   "execution_count": 25,
   "id": "1d393147",
   "metadata": {},
   "outputs": [],
   "source": [
    "numbers = [1, 2, 3, 4, 5, 6, 7, 8, 9, 10]\n",
    "cubes=map(lambda x:x**3,numbers)"
   ]
  },
  {
   "cell_type": "code",
   "execution_count": 26,
   "id": "0d6ea9a1",
   "metadata": {},
   "outputs": [],
   "source": [
    "sum1=tuple(cubes)"
   ]
  },
  {
   "cell_type": "code",
   "execution_count": 27,
   "id": "350f3c49",
   "metadata": {},
   "outputs": [
    {
     "name": "stdout",
     "output_type": "stream",
     "text": [
      "(1, 8, 27, 64, 125, 216, 343, 512, 729, 1000)\n",
      "3025\n"
     ]
    }
   ],
   "source": [
    "num=0\n",
    "for i in sum1:\n",
    "    num=i+num\n",
    "    \n",
    "\n",
    "print(sum1)\n",
    "print(num)"
   ]
  },
  {
   "cell_type": "markdown",
   "id": "b06f2b7d",
   "metadata": {},
   "source": [
    "# 21. Write a code that filters out prime numbers from a given list."
   ]
  },
  {
   "cell_type": "code",
   "execution_count": null,
   "id": "527c4dda",
   "metadata": {},
   "outputs": [],
   "source": []
  },
  {
   "cell_type": "markdown",
   "id": "2ec4a0b9",
   "metadata": {},
   "source": [
    "# 22. Write a code that uses a lambda function to calculate the sum of two numbers."
   ]
  },
  {
   "cell_type": "code",
   "execution_count": 28,
   "id": "c22e93c9",
   "metadata": {},
   "outputs": [],
   "source": [
    "sum=lambda x,y:x+y"
   ]
  },
  {
   "cell_type": "code",
   "execution_count": 29,
   "id": "26f6c7b1",
   "metadata": {},
   "outputs": [
    {
     "data": {
      "text/plain": [
       "40"
      ]
     },
     "execution_count": 29,
     "metadata": {},
     "output_type": "execute_result"
    }
   ],
   "source": [
    "sum(10,30)"
   ]
  },
  {
   "cell_type": "markdown",
   "id": "9a69a737",
   "metadata": {},
   "source": [
    "# Question number 22,23,24,25,26 repeated and same to Question 11,12,13,15,16"
   ]
  },
  {
   "cell_type": "markdown",
   "id": "fd2437af",
   "metadata": {},
   "source": [
    "# 27. What is encapsulation in OOP?"
   ]
  },
  {
   "cell_type": "raw",
   "id": "68067f0d",
   "metadata": {},
   "source": [
    "Encapsulation in Object-Oriented Programming (OOP) is the concept of bundling the data (attributes or properties) and the methods (functions or procedures) that operate on the data into a single unit known as a class. It allows the data to be accessed and manipulated only through well-defined interfaces or methods, while hiding the internal implementation details from the outside world."
   ]
  },
  {
   "cell_type": "markdown",
   "id": "6f795ec9",
   "metadata": {},
   "source": [
    "# 28. Explain the use of access modifiers in Python classes."
   ]
  },
  {
   "cell_type": "raw",
   "id": "2b2db308",
   "metadata": {},
   "source": [
    "Public Members: Default accessibility; no underscores prefixed. Accessible from anywhere.\n",
    "\n",
    "Protected Members: Conventionally marked with a single underscore (_) prefix. Indicated as protected, should be accessed with caution.\n",
    "\n",
    "Private Members: Conventionally marked with a double underscore (__) prefix. Indicated as private, should not be accessed directly from outside the class. Name mangling is applied to avoid name clashes in subclasses."
   ]
  },
  {
   "cell_type": "markdown",
   "id": "11699c0e",
   "metadata": {},
   "source": [
    "# 29. What is inheritance in OOP?"
   ]
  },
  {
   "cell_type": "raw",
   "id": "0342d89e",
   "metadata": {},
   "source": [
    "\n",
    "Inheritance in Object-Oriented Programming (OOP) is the mechanism by which a class (subclass or derived class) can inherit attributes and methods from another class (superclass or base class). The subclass can extend or modify the behavior of the superclass while inheriting its properties. "
   ]
  },
  {
   "cell_type": "markdown",
   "id": "4dd0ce39",
   "metadata": {},
   "source": [
    "# 30. Define polymorphism in OOP."
   ]
  },
  {
   "cell_type": "raw",
   "id": "d4cfb1f9",
   "metadata": {},
   "source": [
    "Polymorphism in Object-Oriented Programming (OOP) refers to the ability of objects of different classes to be treated interchangeably based on a common interface or behavior. It allows different classes to implement methods with the same name but with different behaviors, enabling more flexible and modular code. There are two main types of polymorphism:\n",
    "\n",
    "Compile-time Polymorphism (Method Overloading): Compile-time polymorphism, also known as method overloading, occurs when multiple methods in a class have the same name but different parameter lists. The correct method to invoke is determined by the number and types of arguments provided at compile time.\n",
    "\n",
    "Runtime Polymorphism (Method Overriding): Runtime polymorphism, also known as method overriding, occurs when a subclass provides a specific implementation of a method that is already defined in its superclass. The subclass method overrides the superclass method, allowing objects of the subclass to be treated as objects of the superclass, but invoking the subclass-specific behavior at runtime."
   ]
  },
  {
   "cell_type": "markdown",
   "id": "e1194aed",
   "metadata": {},
   "source": [
    "# 31. Explain method overriding in Python."
   ]
  },
  {
   "cell_type": "raw",
   "id": "0b1cc9bb",
   "metadata": {},
   "source": [
    "Compile-time Polymorphism (Method Overloading): Compile-time polymorphism, also known as method overloading, occurs when multiple methods in a class have the same name but different parameter lists. The correct method to invoke is determined by the number and types of arguments provided at compile time."
   ]
  },
  {
   "cell_type": "markdown",
   "id": "6f20b092",
   "metadata": {},
   "source": [
    "# 32. Define a parent class Animal with a method make_sound that prints \"Generic animal sound\". Create a child class Dog inheritina from Animal with a method make sound that prints \"Woof!\".\n"
   ]
  },
  {
   "cell_type": "code",
   "execution_count": 30,
   "id": "e5eceee1",
   "metadata": {},
   "outputs": [],
   "source": [
    "class Animal:\n",
    "    def make_sound(self):\n",
    "        print(\"Generic animal sound\")\n",
    "class Dog(Animal):\n",
    "    def make_sound(self):\n",
    "        print(\"woof\")"
   ]
  },
  {
   "cell_type": "code",
   "execution_count": 31,
   "id": "b6674435",
   "metadata": {},
   "outputs": [],
   "source": [
    "dog=Dog()"
   ]
  },
  {
   "cell_type": "code",
   "execution_count": 32,
   "id": "5704830d",
   "metadata": {},
   "outputs": [
    {
     "name": "stdout",
     "output_type": "stream",
     "text": [
      "woof\n"
     ]
    }
   ],
   "source": [
    "dog.make_sound()"
   ]
  },
  {
   "cell_type": "code",
   "execution_count": 33,
   "id": "fd3fed4c",
   "metadata": {},
   "outputs": [],
   "source": [
    "animal=Animal()"
   ]
  },
  {
   "cell_type": "code",
   "execution_count": 34,
   "id": "fa3d5abc",
   "metadata": {},
   "outputs": [],
   "source": [
    "animal=Animal()"
   ]
  },
  {
   "cell_type": "markdown",
   "id": "35b441ce",
   "metadata": {},
   "source": [
    "# 33. Define a method move in the Animal class that prints \"Animal moves\". Override the move method in the Dog class to print \"Dog runs.\""
   ]
  },
  {
   "cell_type": "code",
   "execution_count": 35,
   "id": "b4f1da04",
   "metadata": {},
   "outputs": [],
   "source": [
    "class Animal:\n",
    "    def move(self):\n",
    "        print(\"Animal moves\")\n",
    "class Dog(Animal):\n",
    "    def move(self):\n",
    "        print(\"Dog runs\")"
   ]
  },
  {
   "cell_type": "code",
   "execution_count": 36,
   "id": "ce240b17",
   "metadata": {},
   "outputs": [],
   "source": [
    "animal=Animal()"
   ]
  },
  {
   "cell_type": "code",
   "execution_count": 37,
   "id": "b4ea1a78",
   "metadata": {},
   "outputs": [
    {
     "name": "stdout",
     "output_type": "stream",
     "text": [
      "Animal moves\n"
     ]
    }
   ],
   "source": [
    "animal.move()"
   ]
  },
  {
   "cell_type": "code",
   "execution_count": 38,
   "id": "7e1c400b",
   "metadata": {},
   "outputs": [],
   "source": [
    "dog=Dog()"
   ]
  },
  {
   "cell_type": "code",
   "execution_count": 39,
   "id": "38b10290",
   "metadata": {},
   "outputs": [
    {
     "name": "stdout",
     "output_type": "stream",
     "text": [
      "Dog runs\n"
     ]
    }
   ],
   "source": [
    "dog.move()"
   ]
  },
  {
   "cell_type": "markdown",
   "id": "05ecf413",
   "metadata": {},
   "source": [
    "# 34. Create a class Mammal with a method reproduce that prints \"Giving birth to live young.\" Create a class DogMammal inheriting from both Dog and Mammal."
   ]
  },
  {
   "cell_type": "code",
   "execution_count": 40,
   "id": "7a028473",
   "metadata": {},
   "outputs": [],
   "source": [
    "class Mammal:\n",
    "    def reproduce(self):\n",
    "        print(\"Giving birth to live young\")\n",
    "class Animal:\n",
    "    def move(self):\n",
    "        print(\"Animal moves\")\n",
    "class Dog(Animal):\n",
    "    def move(self):\n",
    "        print(\"Dog runs\")\n",
    "class DogMammal(Dog,Mammal):\n",
    "    pass"
   ]
  },
  {
   "cell_type": "markdown",
   "id": "474f9872",
   "metadata": {},
   "source": [
    "# 35. Create a class German Shepherd inheriting from Dog and override the make_sound method to print \"Bark!\""
   ]
  },
  {
   "cell_type": "code",
   "execution_count": 41,
   "id": "1d4f1faa",
   "metadata": {},
   "outputs": [],
   "source": [
    "class Animal:\n",
    "    def move(self):\n",
    "        print(\"Animal moves\")\n",
    "class Dog(Animal):\n",
    "    def make_sound(self):\n",
    "        print(\"Dog runs\")\n",
    "class GermanShepherd(Dog):\n",
    "    def make_sound(self):\n",
    "        print(\"Bark!\")"
   ]
  },
  {
   "cell_type": "code",
   "execution_count": 42,
   "id": "2e3306be",
   "metadata": {},
   "outputs": [
    {
     "name": "stdout",
     "output_type": "stream",
     "text": [
      "Bark!\n"
     ]
    }
   ],
   "source": [
    "german_shepherd = GermanShepherd()\n",
    "german_shepherd.make_sound()"
   ]
  },
  {
   "cell_type": "markdown",
   "id": "416046c7",
   "metadata": {},
   "source": [
    "# 36. Define constructors in both the Animal and Dog classes with different initialization parameters."
   ]
  },
  {
   "cell_type": "code",
   "execution_count": 43,
   "id": "0463ec00",
   "metadata": {},
   "outputs": [],
   "source": [
    "class Animal:\n",
    "    def __init__(self,name):\n",
    "        self.name=name\n",
    "    def move(self):\n",
    "        print(\"Animal moves \")\n",
    "class Dog(Animal):\n",
    "    def __init__(self,speed_kms):\n",
    "        self.speed_kms=speed_kms\n",
    "    def make_sound(self):\n",
    "        print(f\"Dog runs = {speed_kms}\")"
   ]
  },
  {
   "cell_type": "code",
   "execution_count": 44,
   "id": "d27e9c49",
   "metadata": {},
   "outputs": [],
   "source": [
    "animal=Animal(\"lucky\")"
   ]
  },
  {
   "cell_type": "code",
   "execution_count": 45,
   "id": "7f761193",
   "metadata": {},
   "outputs": [
    {
     "data": {
      "text/plain": [
       "'lucky'"
      ]
     },
     "execution_count": 45,
     "metadata": {},
     "output_type": "execute_result"
    }
   ],
   "source": [
    "animal.name"
   ]
  },
  {
   "cell_type": "code",
   "execution_count": 46,
   "id": "0c438321",
   "metadata": {},
   "outputs": [],
   "source": [
    "dog=Dog(\"10\")"
   ]
  },
  {
   "cell_type": "code",
   "execution_count": 47,
   "id": "3aec04ef",
   "metadata": {},
   "outputs": [
    {
     "data": {
      "text/plain": [
       "'10'"
      ]
     },
     "execution_count": 47,
     "metadata": {},
     "output_type": "execute_result"
    }
   ],
   "source": [
    "dog.speed_kms"
   ]
  },
  {
   "cell_type": "markdown",
   "id": "77abe281",
   "metadata": {},
   "source": [
    "# 37. What is abstraction in Python? How is it implemented"
   ]
  },
  {
   "cell_type": "raw",
   "id": "8bfaef60",
   "metadata": {},
   "source": [
    "Abstraction in Python, as in other programming languages, refers to the concept of hiding complex implementation details and showing only the essential features of an object or system. It allows programmers to focus on the high-level design and behavior of objects or systems without getting bogged down in the implementation specifics."
   ]
  },
  {
   "cell_type": "raw",
   "id": "a7475b2e",
   "metadata": {},
   "source": [
    "# Abstract Base Classes (ABCs): Python's abc module provides support for defining abstract base classes, which are classes that cannot be instantiated directly but serve as templates for other classes. Abstract base classes define abstract methods that must be implemented by subclasses, enforcing a certain level of abstraction and providing a clear contract for subclasses."
   ]
  },
  {
   "cell_type": "markdown",
   "id": "2022ec4d",
   "metadata": {},
   "source": [
    "# 38. Explain the importance e of abstraction in object-oriented programming."
   ]
  },
  {
   "cell_type": "raw",
   "id": "fcf83c38",
   "metadata": {},
   "source": [
    "Modularity: Abstraction simplifies complex systems by breaking them into smaller, manageable units (classes).\n",
    "\n",
    "Hiding Complexity: It hides implementation details, exposing only essential features to users.\n",
    "\n",
    "Code Reusability: Abstract classes and interfaces promote code reuse, minimizing duplication and enhancing development efficiency.\n",
    "\n",
    "Flexibility: Abstraction enables decoupling of system components, facilitating independent modification and extension.\n",
    "\n",
    "Scalability: It allows for seamless addition of new features without disrupting existing code.\n",
    "\n",
    "Encapsulation: Abstraction and encapsulation together promote information hiding and reduce system complexity.\n",
    "\n",
    "Promotes Understanding: Provides a higher-level view, focusing on what objects can do rather than how they do it, aiding comprehension.\n",
    "\n",
    "Adaptability to Change: Facilitates easy modification or extension to accommodate new requirements or changing business needs."
   ]
  },
  {
   "cell_type": "markdown",
   "id": "0d9e99b6",
   "metadata": {},
   "source": [
    "# 39. How are abstract methods different from regular methods in Python?"
   ]
  },
  {
   "cell_type": "raw",
   "id": "a98ad9de",
   "metadata": {},
   "source": [
    "Definition: Abstract methods are declared in abstract classes using the @abstractmethod decorator from the abc module, but they do not contain an implementation. Regular methods, on the other hand, have a complete implementation defined within the class.\n",
    "\n",
    "Purpose: Abstract methods serve as placeholders or templates that must be implemented by subclasses. They define a contract that subclasses must adhere to. Regular methods provide specific functionality within a class and are called directly on instances of that class.\n",
    "\n",
    "Usage: Abstract methods cannot be instantiated directly. They must be overridden by subclasses to provide a concrete implementation. Regular methods can be called directly on instances of a class.\n",
    "\n",
    "Enforcement: Abstract methods are enforced in abstract base classes (ABCs) to ensure that subclasses provide a specific implementation. Regular methods are not enforced in this way; they are optional and can be overridden or inherited by subclasses.\n",
    "\n",
    "Syntax: Abstract methods are declared using the @abstractmethod decorator and do not contain a body. Regular methods are defined with a name, parameters, and a body containing the implementation logic."
   ]
  },
  {
   "cell_type": "markdown",
   "id": "9a1b8c1e",
   "metadata": {},
   "source": [
    "# 40. How can you achieve abstraction using interfaces in Python?"
   ]
  },
  {
   "cell_type": "raw",
   "id": "2f9a91ee",
   "metadata": {},
   "source": [
    "In Python, abstraction using interfaces can be achieved through the use of Abstract Base Classes (ABCs) from the abc module"
   ]
  },
  {
   "cell_type": "markdown",
   "id": "56fe176e",
   "metadata": {},
   "source": [
    "# 41. Can you provide an example of how abstraction can be utilized to create a common interface for a group of related classes in Python?"
   ]
  },
  {
   "cell_type": "code",
   "execution_count": 48,
   "id": "49a9f5f3",
   "metadata": {},
   "outputs": [],
   "source": [
    "from abc import ABC,abstractmethod\n",
    "class Course:\n",
    "    @abstractmethod\n",
    "    def subject(self):\n",
    "        pass\n",
    "    \n",
    "class Btech(Course):\n",
    "    def subject(self):\n",
    "        return (\"HTML,JAVA\")\n",
    "    \n",
    "class BCA(Course):\n",
    "    def subject(self):\n",
    "        return (\"C and C++\")\n",
    "    \n",
    "class MCA(Course):\n",
    "    def subject(self):\n",
    "        return (\"PHP and .net\")\n",
    "                \n",
    "        "
   ]
  },
  {
   "cell_type": "code",
   "execution_count": 49,
   "id": "e5cbec7a",
   "metadata": {},
   "outputs": [],
   "source": [
    "btech=Btech()\n",
    "bca=BCA()\n",
    "mca=MCA()"
   ]
  },
  {
   "cell_type": "code",
   "execution_count": 50,
   "id": "011e5c83",
   "metadata": {},
   "outputs": [
    {
     "data": {
      "text/plain": [
       "'C and C++'"
      ]
     },
     "execution_count": 50,
     "metadata": {},
     "output_type": "execute_result"
    }
   ],
   "source": [
    "bca.subject()"
   ]
  },
  {
   "cell_type": "code",
   "execution_count": 51,
   "id": "81069c83",
   "metadata": {},
   "outputs": [],
   "source": [
    "course=[btech,bca,mca]"
   ]
  },
  {
   "cell_type": "code",
   "execution_count": 52,
   "id": "46ed5119",
   "metadata": {},
   "outputs": [
    {
     "name": "stdout",
     "output_type": "stream",
     "text": [
      "HTML,JAVA\n",
      "C and C++\n",
      "PHP and .net\n"
     ]
    }
   ],
   "source": [
    "for i in course:\n",
    "    print(i.subject())"
   ]
  },
  {
   "cell_type": "markdown",
   "id": "4e0f4866",
   "metadata": {},
   "source": [
    "# 42. How does Python achieve polymorphism through method overriding?"
   ]
  },
  {
   "cell_type": "raw",
   "id": "fb80167b",
   "metadata": {},
   "source": [
    "Python achieves polymorphism through method overriding by allowing subclasses to provide their own implementation of methods that are already defined in their superclass. When a method is invoked on an object, Python looks for the method's implementation starting from the class of the object itself and then traverses up the class hierarchy until it finds an implementation. If a subclass overrides a method from its superclass, the overridden implementation in the subclass is called instead of the superclass's implementation."
   ]
  },
  {
   "cell_type": "markdown",
   "id": "9bec3516",
   "metadata": {},
   "source": [
    "# 43. Define a base class with a method and a subclass that overrides the method."
   ]
  },
  {
   "cell_type": "code",
   "execution_count": 53,
   "id": "0c110da4",
   "metadata": {},
   "outputs": [],
   "source": [
    "class Course:\n",
    "    def subject(self):\n",
    "        print(\"HTML CSS\")\n",
    "        \n",
    "class Btect(Course):\n",
    "    def subject(self):\n",
    "        print(\"JAVA C C++\")\n",
    "    "
   ]
  },
  {
   "cell_type": "code",
   "execution_count": 54,
   "id": "9cdd50a7",
   "metadata": {},
   "outputs": [],
   "source": [
    "btect=Btect()"
   ]
  },
  {
   "cell_type": "code",
   "execution_count": 55,
   "id": "162ed622",
   "metadata": {},
   "outputs": [
    {
     "name": "stdout",
     "output_type": "stream",
     "text": [
      "JAVA C C++\n"
     ]
    }
   ],
   "source": [
    "btect.subject()"
   ]
  },
  {
   "cell_type": "markdown",
   "id": "91455230",
   "metadata": {},
   "source": [
    "# 44.Define a base class and multiple subclasses with overridden methods."
   ]
  },
  {
   "cell_type": "code",
   "execution_count": 56,
   "id": "6de7c586",
   "metadata": {},
   "outputs": [],
   "source": [
    "class Shape:\n",
    "    def area(self):\n",
    "        return \"Generic shape area\"\n",
    "\n",
    "class Circle(Shape):\n",
    "    def area(self):\n",
    "        return \"Area of circle\"\n",
    "\n",
    "class Rectangle(Shape):\n",
    "    def area(self):\n",
    "        return \"Area of rectangle\"\n",
    "\n",
    "class Triangle(Shape):\n",
    "    def area(self):\n",
    "        return \"Area of triangle\"\n",
    "\n",
    " "
   ]
  },
  {
   "cell_type": "code",
   "execution_count": 57,
   "id": "0d8bf91e",
   "metadata": {},
   "outputs": [],
   "source": [
    "circle = Circle()\n",
    "rectangle = Rectangle()\n",
    "triangle = Triangle()"
   ]
  },
  {
   "cell_type": "code",
   "execution_count": 58,
   "id": "976552d5",
   "metadata": {},
   "outputs": [
    {
     "name": "stdout",
     "output_type": "stream",
     "text": [
      "Area of circle\n",
      "Area of rectangle\n",
      "Area of triangle\n"
     ]
    }
   ],
   "source": [
    "print(circle.area())     \n",
    "print(rectangle.area()) \n",
    "print(triangle.area()) "
   ]
  },
  {
   "cell_type": "markdown",
   "id": "598ac905",
   "metadata": {},
   "source": [
    "# 45. How does polymorphism improve code readability and reusability?"
   ]
  },
  {
   "cell_type": "raw",
   "id": "ece28dfe",
   "metadata": {},
   "source": [
    "Simplifies Code: Polymorphism allows for a more natural and intuitive expression of behavior in code, simplifying complex logic.\n",
    "\n",
    "Enhances Readability: Abstracting away implementation details through polymorphism makes the code easier to read and comprehend.\n",
    "\n",
    "Promotes Modular Design: Polymorphism encourages modular design by promoting the use of interfaces and abstract base classes, facilitating code organization.\n",
    "\n",
    "Facilitates Code Reuse: Polymorphism enables the reuse of code across different parts of a program, reducing duplication and promoting efficient development.\n",
    "\n",
    "Increases Flexibility: Objects of different types can be used interchangeably based on their common interface, increasing code flexibility and adaptability.\n",
    "\n",
    "Encourages Extensibility: Polymorphic codebases can easily accommodate new requirements and features, promoting code extensibility without disrupting existing functionality."
   ]
  },
  {
   "cell_type": "markdown",
   "id": "3f1b0d70",
   "metadata": {},
   "source": [
    "# 46. Describe how Python supports polymorphism with duck typing."
   ]
  },
  {
   "cell_type": "raw",
   "id": "77184224",
   "metadata": {},
   "source": [
    "Python supports polymorphism through duck typing, a concept that emphasizes the object's behavior over its type. In duck typing, an object's suitability is determined by its method and properties rather than its inheritance or type. If an object implements a specific method or property, it can be used in contexts that expect objects with those behaviors, regardless of its actual type."
   ]
  },
  {
   "cell_type": "raw",
   "id": "168fc5a9",
   "metadata": {},
   "source": [
    "Example: For example, in Python, you can iterate over any object that implements the __iter__() method, regardless of its type. Similarly, you can call the len() function on any object that implements the __len__() method, again regardless of its type. This flexibility enables polymorphic behavior without the need for explicit type checking."
   ]
  },
  {
   "cell_type": "markdown",
   "id": "7ee84a90",
   "metadata": {},
   "source": [
    "# 47. How do you achieve encapsulation in Python?"
   ]
  },
  {
   "cell_type": "raw",
   "id": "9ad0a81d",
   "metadata": {},
   "source": [
    "Encapsulation in Python, which involves bundling data and methods into a single unit (class) and controlling access to the data, is achieved through the following mechanisms:\n",
    "\n",
    "Classes: Classes serve as blueprints for encapsulating data and behavior.\n",
    "\n",
    "Private Attributes and Methods: Private attributes and methods, denoted by double underscores (__), restrict access to within the class.\n",
    "\n",
    "Public Methods: Public methods provide controlled access to encapsulated data, serving as interfaces for external code.\n",
    "\n",
    "Getter and Setter Methods: Getter methods retrieve the values of private attributes, while setter methods modify them, ensuring controlled access and data integrity.\n",
    "\n",
    "Property Decorators: The property decorator enables concise definition of getter and setter methods, creating properties that behave like attributes.\n",
    "\n",
    "Access Modifiers: Although not enforced, naming conventions using underscores (_) indicate the intended accessibility of attributes and methods, with single underscores denoting protected and double underscores denoting private."
   ]
  },
  {
   "cell_type": "markdown",
   "id": "4e98e791",
   "metadata": {},
   "source": [
    "# 48. Can encapsulation be bypassed in Python? If so, how?"
   ]
  },
  {
   "cell_type": "raw",
   "id": "6dcc2d22",
   "metadata": {},
   "source": [
    "# Encapsulation in Python can be bypassed to some extent due to its dynamic nature and lack of strict access control mechanisms. Although Python provides conventions for indicating attribute and method visibility (such as using single underscores for protected attributes and double underscores for private attributes), these conventions are not enforced by the language itself. As a result, it is possible to access and modify attributes and methods that are intended to be encapsulated."
   ]
  },
  {
   "cell_type": "raw",
   "id": "7809438a",
   "metadata": {},
   "source": [
    "Direct Access to Attributes and Methods: Attributes and methods can be accessed directly from outside the class, as access modifiers like private and protected are not strictly enforced by the language.\n",
    "\n",
    "Using Class Dictionaries: Direct manipulation of an object's __dict__ attribute allows bypassing encapsulation by accessing and modifying attributes and methods.\n",
    "\n",
    "Using Name Mangling: Private attributes can be accessed using name mangling, which involves modifying their names to include the class name.\n",
    "\n",
    "Using the setattr() and getattr() Functions: The built-in setattr() and getattr() functions can be used to set and get attribute values dynamically, bypassing encapsulation."
   ]
  },
  {
   "cell_type": "markdown",
   "id": "253187ae",
   "metadata": {},
   "source": [
    "# 49. Implement a class BankAccount with a private balance attribute. Include methods to deposit, withdraw, and check the balance"
   ]
  },
  {
   "cell_type": "code",
   "execution_count": 59,
   "id": "ce457022",
   "metadata": {},
   "outputs": [],
   "source": [
    "class BankAccount:\n",
    "    def __init__(self ,initial_balance=0):\n",
    "        self.__balance=initial_balance\n",
    "        \n",
    "    def deposit(self,amount):\n",
    "        if amount>0:\n",
    "            self.__balance=amount+self.__balance\n",
    "            return (self.__balance)\n",
    "        else:\n",
    "            print(\"invalid deposit amount\")\n",
    "            \n",
    "    def withdraw(self,amount):\n",
    "        if 0<amount<=self.__balance:\n",
    "            self.__balance=self.__balance-amount\n",
    "            return (self.__balance)\n",
    "        else:\n",
    "            print(\"invalid withdrow amount\")\n",
    "            \n",
    "    def check(self):\n",
    "        return (self.__balance)\n",
    "  \n",
    "    "
   ]
  },
  {
   "cell_type": "code",
   "execution_count": 60,
   "id": "bf8b65ae",
   "metadata": {},
   "outputs": [],
   "source": [
    "BankAccount=BankAccount()"
   ]
  },
  {
   "cell_type": "code",
   "execution_count": 61,
   "id": "d41b176c",
   "metadata": {},
   "outputs": [
    {
     "name": "stdout",
     "output_type": "stream",
     "text": [
      "1000\n"
     ]
    }
   ],
   "source": [
    "print(BankAccount.deposit(1000))"
   ]
  },
  {
   "cell_type": "code",
   "execution_count": 62,
   "id": "91bf7202",
   "metadata": {},
   "outputs": [
    {
     "data": {
      "text/plain": [
       "500"
      ]
     },
     "execution_count": 62,
     "metadata": {},
     "output_type": "execute_result"
    }
   ],
   "source": [
    "BankAccount.withdraw(500)"
   ]
  },
  {
   "cell_type": "code",
   "execution_count": 63,
   "id": "d147bf56",
   "metadata": {},
   "outputs": [
    {
     "data": {
      "text/plain": [
       "500"
      ]
     },
     "execution_count": 63,
     "metadata": {},
     "output_type": "execute_result"
    }
   ],
   "source": [
    "BankAccount.check()"
   ]
  },
  {
   "cell_type": "markdown",
   "id": "84fe62b5",
   "metadata": {},
   "source": [
    "# 50. Develop a Person class with private attributes name and email, and methods to set and get the email."
   ]
  },
  {
   "cell_type": "code",
   "execution_count": 64,
   "id": "a7c301b3",
   "metadata": {},
   "outputs": [],
   "source": [
    "class Person:\n",
    "    def __init__(self,name,email):\n",
    "        self.__name=name\n",
    "        self.__email=email\n",
    "        \n",
    "    def set_email(self,new_email):\n",
    "        self.__email=new_email\n",
    "    \n",
    "    def get_email(self):\n",
    "        return self.__email\n",
    "    def get_name(self):\n",
    "        return self.__name\n",
    "    "
   ]
  },
  {
   "cell_type": "code",
   "execution_count": 65,
   "id": "3014ba2c",
   "metadata": {},
   "outputs": [],
   "source": [
    "person=Person(\"sumit\",\"sumir@gmail.com\")"
   ]
  },
  {
   "cell_type": "code",
   "execution_count": 66,
   "id": "2fe143e5",
   "metadata": {},
   "outputs": [
    {
     "data": {
      "text/plain": [
       "'sumir@gmail.com'"
      ]
     },
     "execution_count": 66,
     "metadata": {},
     "output_type": "execute_result"
    }
   ],
   "source": [
    "person.get_email()"
   ]
  },
  {
   "cell_type": "code",
   "execution_count": 67,
   "id": "48f4ed87",
   "metadata": {},
   "outputs": [
    {
     "data": {
      "text/plain": [
       "'sumit'"
      ]
     },
     "execution_count": 67,
     "metadata": {},
     "output_type": "execute_result"
    }
   ],
   "source": [
    "person.get_name()"
   ]
  },
  {
   "cell_type": "code",
   "execution_count": 68,
   "id": "b2fce9c6",
   "metadata": {},
   "outputs": [],
   "source": [
    "person.set_email(\"amit@gmai.com\")"
   ]
  },
  {
   "cell_type": "code",
   "execution_count": 69,
   "id": "9f355d32",
   "metadata": {},
   "outputs": [
    {
     "data": {
      "text/plain": [
       "'amit@gmai.com'"
      ]
     },
     "execution_count": 69,
     "metadata": {},
     "output_type": "execute_result"
    }
   ],
   "source": [
    "person.get_email()"
   ]
  },
  {
   "cell_type": "markdown",
   "id": "543148f5",
   "metadata": {},
   "source": [
    "# 51. Why is encapsulation considered a pillar of object-oriented programming (OOP)?"
   ]
  },
  {
   "cell_type": "raw",
   "id": "b25ecc81",
   "metadata": {},
   "source": [
    "Abstraction: Encapsulation promotes abstraction by allowing objects to expose only essential information and behavior through well-defined interfaces.\n",
    "\n",
    "Data Hiding: Encapsulation allows the internal state of an object to be hidden from the outside world, preventing direct manipulation of object state and ensuring data integrity.\n",
    "\n",
    "Encapsulation enables Polymorphism: Encapsulation, along with inheritance and polymorphism, forms the basis of object-oriented design principles. Encapsulation enables objects to exhibit polymorphic behavior by providing a common interface for interacting with objects of different types.\n",
    "\n",
    "Information Hiding: Encapsulation facilitates information hiding by exposing only relevant details of an object's implementation while hiding its internal workings, enhancing code readability and reducing complexity.\n",
    "\n",
    "Modularity: Encapsulation promotes modularity by bundling related data and behavior into cohesive units (classes), facilitating code organization, maintenance, and reusability.\n",
    "\n",
    "Security: Encapsulation enhances security by restricting access to sensitive data and behavior, preventing unauthorized access and modification, and improving data security."
   ]
  },
  {
   "cell_type": "markdown",
   "id": "9825f602",
   "metadata": {},
   "source": [
    "# 52. Create a decorator in Python that adds functionality to a simple function by printing a message before and after the function execution."
   ]
  },
  {
   "cell_type": "code",
   "execution_count": 70,
   "id": "4b452666",
   "metadata": {},
   "outputs": [],
   "source": [
    "def my_decorator(func):\n",
    "    def wrapper():\n",
    "        print(\"before the function execution\")\n",
    "        func()\n",
    "        print(\"after the function execution\")\n",
    "    return wrapper"
   ]
  },
  {
   "cell_type": "code",
   "execution_count": 71,
   "id": "d2b72324",
   "metadata": {},
   "outputs": [],
   "source": [
    "@my_decorator\n",
    "def msg():\n",
    "    print(\"Hello decorator my name is sumit\")"
   ]
  },
  {
   "cell_type": "code",
   "execution_count": 72,
   "id": "80b2e164",
   "metadata": {},
   "outputs": [
    {
     "name": "stdout",
     "output_type": "stream",
     "text": [
      "before the function execution\n",
      "Hello decorator my name is sumit\n",
      "after the function execution\n"
     ]
    }
   ],
   "source": [
    "msg()"
   ]
  },
  {
   "cell_type": "markdown",
   "id": "9bbf4105",
   "metadata": {},
   "source": [
    "# 53. Modify the decorator to accept arguments and print the function name along with the message."
   ]
  },
  {
   "cell_type": "code",
   "execution_count": 73,
   "id": "868f096d",
   "metadata": {},
   "outputs": [],
   "source": [
    "from functools import wraps\n",
    "\n",
    "def decorator_with_args(arg1, arg2):\n",
    "    def decorator(func):\n",
    "        @wraps(func)\n",
    "        def wrapper(*args, **kwargs):\n",
    "            print(f\"Before {func.__name__} execution with arguments: {arg1}, {arg2}\")\n",
    "            result = func(*args, **kwargs)\n",
    "            print(f\"After {func.__name__} execution with arguments: {arg1}, {arg2}\")\n",
    "            return result\n",
    "        return wrapper\n",
    "    return decorator"
   ]
  },
  {
   "cell_type": "code",
   "execution_count": 74,
   "id": "9958e08f",
   "metadata": {},
   "outputs": [],
   "source": [
    "@decorator_with_args(\"arg1_value\", \"arg2_value\")\n",
    "def simple_function():\n",
    "    print(\"Inside simple function\")"
   ]
  },
  {
   "cell_type": "code",
   "execution_count": 75,
   "id": "841126f3",
   "metadata": {},
   "outputs": [
    {
     "name": "stdout",
     "output_type": "stream",
     "text": [
      "Before simple_function execution with arguments: arg1_value, arg2_value\n",
      "Inside simple function\n",
      "After simple_function execution with arguments: arg1_value, arg2_value\n"
     ]
    }
   ],
   "source": [
    "simple_function()"
   ]
  },
  {
   "cell_type": "markdown",
   "id": "2365c7bb",
   "metadata": {},
   "source": [
    "# 54. Create two decorators, and apply them to a single function. Ensure that they execute in the order they are applied"
   ]
  },
  {
   "cell_type": "code",
   "execution_count": 76,
   "id": "c4780e63",
   "metadata": {},
   "outputs": [],
   "source": [
    "\n",
    "def my_decorator(func):\n",
    "    def wrapper():\n",
    "        print(\"Decorator 1 - before the function execution\")\n",
    "        func()\n",
    "        print(\"Decorator 1 - after the function execution\")\n",
    "    return wrapper\n",
    "\n",
    "def my_decorator2(func):\n",
    "    def wrapper():\n",
    "        print(\"Decorator 2 - before the function execution\")\n",
    "        func()\n",
    "        print(\"Decorator 2 - after the function execution\")\n",
    "    return wrapper"
   ]
  },
  {
   "cell_type": "code",
   "execution_count": 77,
   "id": "22b638fc",
   "metadata": {},
   "outputs": [],
   "source": [
    "@my_decorator\n",
    "@my_decorator2\n",
    "def msg():\n",
    "    print(\"Hello decorator my name is sumit\")"
   ]
  },
  {
   "cell_type": "code",
   "execution_count": 78,
   "id": "06bf635e",
   "metadata": {},
   "outputs": [
    {
     "name": "stdout",
     "output_type": "stream",
     "text": [
      "Decorator 1 - before the function execution\n",
      "Decorator 2 - before the function execution\n",
      "Hello decorator my name is sumit\n",
      "Decorator 2 - after the function execution\n",
      "Decorator 1 - after the function execution\n"
     ]
    }
   ],
   "source": [
    "msg()"
   ]
  },
  {
   "cell_type": "markdown",
   "id": "542c0d94",
   "metadata": {},
   "source": [
    "# 55. Modify the decorator to accept and pass function arguments to the wrapped function"
   ]
  },
  {
   "cell_type": "code",
   "execution_count": 80,
   "id": "616d942a",
   "metadata": {},
   "outputs": [
    {
     "name": "stdout",
     "output_type": "stream",
     "text": [
      "Decorator is called\n",
      "Function is called with arguments: Hello Sumit\n"
     ]
    }
   ],
   "source": [
    "from functools import wraps\n",
    "\n",
    "def decorator(func):\n",
    "    @wraps(func)\n",
    "    def wrapper(*args, **kwargs):\n",
    "        print(\"Decorator is called\")\n",
    "        return func(*args, **kwargs)\n",
    "    return wrapper\n",
    "\n",
    "@decorator\n",
    "def example_function(arg1, arg2):\n",
    "    print(\"Function is called with arguments:\", arg1, arg2)\n",
    "\n",
    "example_function(\"Hello\", \"Sumit\")\n"
   ]
  },
  {
   "cell_type": "markdown",
   "id": "a72a9d59",
   "metadata": {},
   "source": [
    "# 56. Create a decorator that preserves the metadata of the original function."
   ]
  },
  {
   "cell_type": "code",
   "execution_count": 81,
   "id": "605bb506",
   "metadata": {},
   "outputs": [],
   "source": [
    "from functools import wraps\n",
    "\n",
    "def metadata_preserving_decorator(func):\n",
    "    @wraps(func)\n",
    "    def wrapper(*args, **kwargs):\n",
    "        return func(*args, **kwargs)\n",
    "    return wrapper\n",
    "\n",
    "@metadata_preserving_decorator\n",
    "def example_function(arg):\n",
    "    \"\"\"This is an example function.\"\"\"\n",
    "    return arg\n"
   ]
  },
  {
   "cell_type": "code",
   "execution_count": 82,
   "id": "8dc3716c",
   "metadata": {},
   "outputs": [
    {
     "name": "stdout",
     "output_type": "stream",
     "text": [
      "Function name: example_function\n",
      "Function docstring: This is an example function.\n"
     ]
    }
   ],
   "source": [
    "print(\"Function name:\", example_function.__name__)\n",
    "print(\"Function docstring:\", example_function.__doc__)\n"
   ]
  },
  {
   "cell_type": "markdown",
   "id": "6a4e3fec",
   "metadata": {},
   "source": [
    "# 57. Create a Python class 'Calculator` with a static method 'add' that takes in two numbers and returns their sum."
   ]
  },
  {
   "cell_type": "code",
   "execution_count": 83,
   "id": "e5cbf099",
   "metadata": {},
   "outputs": [],
   "source": [
    "class Calculator:\n",
    "    @staticmethod\n",
    "    def add(a,b):\n",
    "        return a+b"
   ]
  },
  {
   "cell_type": "code",
   "execution_count": 86,
   "id": "8c623815",
   "metadata": {},
   "outputs": [
    {
     "data": {
      "text/plain": [
       "30"
      ]
     },
     "execution_count": 86,
     "metadata": {},
     "output_type": "execute_result"
    }
   ],
   "source": [
    "Calculator.add(10,20)"
   ]
  },
  {
   "cell_type": "code",
   "execution_count": 87,
   "id": "3f70ecfb",
   "metadata": {},
   "outputs": [
    {
     "data": {
      "text/plain": [
       "35"
      ]
     },
     "execution_count": 87,
     "metadata": {},
     "output_type": "execute_result"
    }
   ],
   "source": [
    "Calculator.add(15,20)"
   ]
  },
  {
   "cell_type": "markdown",
   "id": "a762f59f",
   "metadata": {},
   "source": [
    "# 58. Create a Python class Employee' with a class 'method get_employee_count' that returns the total"
   ]
  },
  {
   "cell_type": "code",
   "execution_count": 98,
   "id": "f55ad2cb",
   "metadata": {},
   "outputs": [],
   "source": [
    "class Employee:\n",
    "    emp_count=0\n",
    "    def __init__(self,name):\n",
    "        self.name=name\n",
    "        Employee.emp_count=Employee.emp_count+1\n",
    "    @classmethod\n",
    "    def get_employee_count(cls):\n",
    "        return cls.emp_count\n",
    "    "
   ]
  },
  {
   "cell_type": "code",
   "execution_count": 99,
   "id": "cd008d0e",
   "metadata": {},
   "outputs": [],
   "source": [
    "one=Employee(\"sumit\")\n",
    "tow=Employee(\"sumit\")\n",
    "three=Employee(\"sumit\")"
   ]
  },
  {
   "cell_type": "code",
   "execution_count": 100,
   "id": "cd336ace",
   "metadata": {},
   "outputs": [
    {
     "data": {
      "text/plain": [
       "3"
      ]
     },
     "execution_count": 100,
     "metadata": {},
     "output_type": "execute_result"
    }
   ],
   "source": [
    "Employee.get_employee_count()"
   ]
  },
  {
   "cell_type": "markdown",
   "id": "1945e858",
   "metadata": {},
   "source": [
    "# 59. Create a Python class 'StringFormatter with a static method 'reverse_string that takes a string as input and returns its reverse."
   ]
  },
  {
   "cell_type": "code",
   "execution_count": 114,
   "id": "6d06630b",
   "metadata": {},
   "outputs": [],
   "source": [
    "class StringFormatter:\n",
    "    @staticmethod\n",
    "    def reverse_string(str1):\n",
    "        return str1[::-1]"
   ]
  },
  {
   "cell_type": "code",
   "execution_count": 115,
   "id": "e8927e9d",
   "metadata": {},
   "outputs": [
    {
     "data": {
      "text/plain": [
       "'timus'"
      ]
     },
     "execution_count": 115,
     "metadata": {},
     "output_type": "execute_result"
    }
   ],
   "source": [
    "StringFormatter.reverse_string(\"sumit\")"
   ]
  },
  {
   "cell_type": "code",
   "execution_count": 116,
   "id": "251474a6",
   "metadata": {},
   "outputs": [
    {
     "data": {
      "text/plain": [
       "'timus ma i olleh '"
      ]
     },
     "execution_count": 116,
     "metadata": {},
     "output_type": "execute_result"
    }
   ],
   "source": [
    "StringFormatter.reverse_string(\" hello i am sumit\")"
   ]
  },
  {
   "cell_type": "markdown",
   "id": "f9c6f3d2",
   "metadata": {},
   "source": [
    "# 60. Create a Python class 'Circle with a class method calculate_area that calculates the area of a circle given its radius"
   ]
  },
  {
   "cell_type": "code",
   "execution_count": 120,
   "id": "9e6aa000",
   "metadata": {},
   "outputs": [],
   "source": [
    "import math\n",
    "class Circle:\n",
    "    @classmethod\n",
    "    def calculate(cls,radius):\n",
    "        return math.pi *radius**2"
   ]
  },
  {
   "cell_type": "code",
   "execution_count": 121,
   "id": "912ac043",
   "metadata": {},
   "outputs": [
    {
     "data": {
      "text/plain": [
       "78.53981633974483"
      ]
     },
     "execution_count": 121,
     "metadata": {},
     "output_type": "execute_result"
    }
   ],
   "source": [
    "Circle.calculate(5)"
   ]
  },
  {
   "cell_type": "code",
   "execution_count": 122,
   "id": "b4544d8d",
   "metadata": {},
   "outputs": [
    {
     "data": {
      "text/plain": [
       "314.1592653589793"
      ]
     },
     "execution_count": 122,
     "metadata": {},
     "output_type": "execute_result"
    }
   ],
   "source": [
    "Circle.calculate(10)"
   ]
  },
  {
   "cell_type": "code",
   "execution_count": 123,
   "id": "d1c7ca3b",
   "metadata": {},
   "outputs": [
    {
     "data": {
      "text/plain": [
       "31415.926535897932"
      ]
     },
     "execution_count": 123,
     "metadata": {},
     "output_type": "execute_result"
    }
   ],
   "source": [
    "Circle.calculate(100)"
   ]
  },
  {
   "cell_type": "markdown",
   "id": "3b2a2186",
   "metadata": {},
   "source": [
    "# 61. Create a Python class TemperatureConverter with a static method celsius_to_fahrenheit that convertsCelsius to Fahrenheit"
   ]
  },
  {
   "cell_type": "code",
   "execution_count": 124,
   "id": "6c83de2c",
   "metadata": {},
   "outputs": [],
   "source": [
    "class TemperatureConverter:\n",
    "    @staticmethod\n",
    "    def celsius_to_fahrenheit(celsius):\n",
    "        return (celsius * 9/5) + 3"
   ]
  },
  {
   "cell_type": "code",
   "execution_count": 125,
   "id": "7b694198",
   "metadata": {},
   "outputs": [
    {
     "data": {
      "text/plain": [
       "21.0"
      ]
     },
     "execution_count": 125,
     "metadata": {},
     "output_type": "execute_result"
    }
   ],
   "source": [
    "TemperatureConverter.celsius_to_fahrenheit(10)"
   ]
  },
  {
   "cell_type": "code",
   "execution_count": 126,
   "id": "31ed6252",
   "metadata": {},
   "outputs": [
    {
     "data": {
      "text/plain": [
       "39.0"
      ]
     },
     "execution_count": 126,
     "metadata": {},
     "output_type": "execute_result"
    }
   ],
   "source": [
    "TemperatureConverter.celsius_to_fahrenheit(20)"
   ]
  },
  {
   "cell_type": "markdown",
   "id": "fbac8cf3",
   "metadata": {},
   "source": [
    "# 62. What is the purpose of the__str__() method in Python classes? Provide an example."
   ]
  },
  {
   "cell_type": "raw",
   "id": "b3d1ff41",
   "metadata": {},
   "source": [
    "The purpose of the __str__() method in Python classes is to return a string representation of an object. It provides a human-readable representation of the object's state."
   ]
  },
  {
   "cell_type": "code",
   "execution_count": 127,
   "id": "a78f49ef",
   "metadata": {},
   "outputs": [
    {
     "name": "stdout",
     "output_type": "stream",
     "text": [
      "Toyota Camry\n"
     ]
    }
   ],
   "source": [
    "class Car:\n",
    "    def __init__(self, brand, model):\n",
    "        self.brand = brand\n",
    "        self.model = model\n",
    "    \n",
    "    def __str__(self):\n",
    "        return f\"{self.brand} {self.model}\"\n",
    "\n",
    "car1 = Car(\"Toyota\", \"Camry\")\n",
    "print(car1)"
   ]
  },
  {
   "cell_type": "markdown",
   "id": "a11e3a8b",
   "metadata": {},
   "source": [
    "# 63. How does the__len__() method work in Python? Provide an example."
   ]
  },
  {
   "cell_type": "raw",
   "id": "8c2ac7f4",
   "metadata": {},
   "source": [
    "The __len__() method in Python is used to determine the length of an object. It should return the length of the object when the len() function is called on it. This method enables the use of built-in functions like len() to get the size or length of custom objects."
   ]
  },
  {
   "cell_type": "code",
   "execution_count": 128,
   "id": "81d80fc3",
   "metadata": {},
   "outputs": [],
   "source": [
    "class lenth:\n",
    "    def __init__(self,x):\n",
    "        self.x=x\n",
    "    \n",
    "    def __len__(self):\n",
    "        return len(self.x)"
   ]
  },
  {
   "cell_type": "code",
   "execution_count": 135,
   "id": "97566eab",
   "metadata": {},
   "outputs": [],
   "source": [
    "abc=lenth(\"sumit\")"
   ]
  },
  {
   "cell_type": "code",
   "execution_count": 136,
   "id": "443460ed",
   "metadata": {},
   "outputs": [
    {
     "name": "stdout",
     "output_type": "stream",
     "text": [
      "5\n"
     ]
    }
   ],
   "source": [
    "print(len(abc))"
   ]
  },
  {
   "cell_type": "markdown",
   "id": "abbad949",
   "metadata": {},
   "source": [
    "# 64. Explain the usage of the__add__() method in Python classes. Provide an example."
   ]
  },
  {
   "cell_type": "raw",
   "id": "fd2028ae",
   "metadata": {},
   "source": [
    "In Python, the __add__() method is used to define the behavior of the addition operator + when applied to objects of a custom class. It allows objects of the class to participate in addition operations by specifying how they should be added together."
   ]
  },
  {
   "cell_type": "code",
   "execution_count": 146,
   "id": "dea2990d",
   "metadata": {},
   "outputs": [],
   "source": [
    "class Data:\n",
    "    def __init__(self, value):\n",
    "        self.value = value\n",
    "        \n",
    "    def __add__(self, other):\n",
    "        return Data(self.value + other.value)"
   ]
  },
  {
   "cell_type": "code",
   "execution_count": 147,
   "id": "ba4bc553",
   "metadata": {},
   "outputs": [
    {
     "name": "stdout",
     "output_type": "stream",
     "text": [
      "42\n"
     ]
    }
   ],
   "source": [
    "a = Data(40)\n",
    "b = Data(2)\n",
    "c = a + b\n",
    "print(c.value)"
   ]
  },
  {
   "cell_type": "markdown",
   "id": "83b5ba64",
   "metadata": {},
   "source": [
    "# 65. What is the purpose of the__getitem__() method in Python? Provide an example."
   ]
  },
  {
   "cell_type": "raw",
   "id": "1870eba7",
   "metadata": {},
   "source": [
    "# The __getitem__() method in Python is used to access items from an object using indexing or slicing notation. It enables instances of a class to behave like sequences (such as lists or tuples) or mappings (such as dictionaries), allowing them to support operations like indexing and slicing.\n",
    "\n"
   ]
  },
  {
   "cell_type": "code",
   "execution_count": 162,
   "id": "94bac6cb",
   "metadata": {},
   "outputs": [],
   "source": [
    "class get_method:\n",
    "     def __init__(self,data):\n",
    "            self.data=data\n",
    "    \n",
    "     def __getitem__(self,index):\n",
    "        return self.data[index]"
   ]
  },
  {
   "cell_type": "code",
   "execution_count": 163,
   "id": "74991173",
   "metadata": {},
   "outputs": [],
   "source": [
    "ab=get_method(\"sumit\")"
   ]
  },
  {
   "cell_type": "code",
   "execution_count": 164,
   "id": "6ef6dfdf",
   "metadata": {},
   "outputs": [
    {
     "data": {
      "text/plain": [
       "'m'"
      ]
     },
     "execution_count": 164,
     "metadata": {},
     "output_type": "execute_result"
    }
   ],
   "source": [
    "ab[2]"
   ]
  },
  {
   "cell_type": "code",
   "execution_count": 165,
   "id": "a9963f9c",
   "metadata": {},
   "outputs": [
    {
     "data": {
      "text/plain": [
       "'sum'"
      ]
     },
     "execution_count": 165,
     "metadata": {},
     "output_type": "execute_result"
    }
   ],
   "source": [
    "ab[:3]"
   ]
  },
  {
   "cell_type": "markdown",
   "id": "48cec6a6",
   "metadata": {},
   "source": [
    "# 66. Explain the usage of the__iter__() and __next__() methods in Python. Provide an example using iterators"
   ]
  },
  {
   "cell_type": "raw",
   "id": "62178ab7",
   "metadata": {},
   "source": [
    "__iter__(): This method is called when an iterator is created using the iter() function. It should return an iterator object itself. This method is typically used to initialize the iterator or reset it if needed."
   ]
  },
  {
   "cell_type": "raw",
   "id": "6ae146a8",
   "metadata": {},
   "source": [
    "__next__(): This method is called to retrieve the next item from the iterator. It should return the next element of the sequence. If there are no more items, it should raise the StopIteration exception."
   ]
  },
  {
   "cell_type": "code",
   "execution_count": 168,
   "id": "25122cea",
   "metadata": {},
   "outputs": [
    {
     "name": "stdout",
     "output_type": "stream",
     "text": [
      "1\n",
      "2\n",
      "3\n",
      "Numbers\n"
     ]
    }
   ],
   "source": [
    "\n",
    "my_list = [1, 2, 3, 'Numbers']\n",
    "\n",
    "my_iter = iter(my_list)\n",
    "\n",
    "\n",
    "print(next(my_iter))   \n",
    "print(next(my_iter))   \n",
    "\n",
    "\n",
    "print(my_iter.__next__())   \n",
    "print(my_iter.__next__())   \n",
    "\n",
    "\n"
   ]
  },
  {
   "cell_type": "code",
   "execution_count": 170,
   "id": "a312aeb8",
   "metadata": {},
   "outputs": [
    {
     "name": "stdout",
     "output_type": "stream",
     "text": [
      "1\n",
      "4\n",
      "9\n",
      "16\n",
      "25\n"
     ]
    }
   ],
   "source": [
    "\n",
    "class Squares:\n",
    "    def __init__(self, length):\n",
    "        self.length = length\n",
    "        self.current = 0\n",
    "\n",
    "    def __iter__(self):\n",
    "        return self\n",
    "\n",
    "    def __next__(self):\n",
    "        if self.current >= self.length:\n",
    "            raise StopIteration\n",
    "\n",
    "        self.current += 1\n",
    "        return self.current ** 2\n",
    "\n",
    "square_num = Squares(5)\n",
    "\n",
    "for sq in square_num:\n",
    "    print(sq)\n",
    "\n"
   ]
  },
  {
   "cell_type": "markdown",
   "id": "cf62a578",
   "metadata": {},
   "source": [
    "# 67. What is the purpose of a getter method in Python? Provide an example demonstrating the use of a getter method using property decorators"
   ]
  },
  {
   "cell_type": "raw",
   "id": "30dfb577",
   "metadata": {},
   "source": [
    "# In Python, a getter method is used to retrieve the value of a private attribute of a class. It provides controlled access to the attribute, allowing the class to encapsulate its data and enforce certain rules or computations before returning the attribute's value.\n",
    "\n",
    "Getter methods are commonly used to ensure that the internal state of an object remains consistent and to provide a more robust interface for accessing attributes."
   ]
  },
  {
   "cell_type": "code",
   "execution_count": 182,
   "id": "1557d2c4",
   "metadata": {},
   "outputs": [],
   "source": [
    "class Student:\n",
    "    def __init__(self,name,subject):\n",
    "        self.__name=name\n",
    "        self.__subject=subject\n",
    "        \n",
    "    @property\n",
    "    def get_data(self):\n",
    "        return self.__name"
   ]
  },
  {
   "cell_type": "code",
   "execution_count": 183,
   "id": "563aa38f",
   "metadata": {},
   "outputs": [],
   "source": [
    "std=Student(\"amit\",\"HTML\")"
   ]
  },
  {
   "cell_type": "code",
   "execution_count": 189,
   "id": "87f2973a",
   "metadata": {},
   "outputs": [
    {
     "data": {
      "text/plain": [
       "'amit'"
      ]
     },
     "execution_count": 189,
     "metadata": {},
     "output_type": "execute_result"
    }
   ],
   "source": [
    "std.get_data"
   ]
  },
  {
   "cell_type": "markdown",
   "id": "bd80c4f4",
   "metadata": {},
   "source": [
    "# 68. Explain the role of setter methods in Python. Demonstrate how to use a setter method to modify a class attribute using property decorators."
   ]
  },
  {
   "cell_type": "raw",
   "id": "71d380a2",
   "metadata": {},
   "source": [
    "In Python, setter methods are used to modify the value of an attribute of a class. They provide controlled access to the attributes, allowing the class to enforce certain rules or validations before modifying the attribute's value. Setter methods are particularly useful when you want to ensure data integrity and maintain consistency within the class."
   ]
  },
  {
   "cell_type": "code",
   "execution_count": 196,
   "id": "29681c6f",
   "metadata": {},
   "outputs": [],
   "source": [
    "class Student:\n",
    "    def __init__(self,name,subject):\n",
    "        self.__name=name\n",
    "        self.__subject=subject\n",
    "        \n",
    "    @property\n",
    "    def get_data(self):\n",
    "        return self.__name\n",
    "    @get_data.setter\n",
    "    def set_name(self,new_name):\n",
    "        self.__name=new_name"
   ]
  },
  {
   "cell_type": "code",
   "execution_count": 197,
   "id": "6f608201",
   "metadata": {},
   "outputs": [],
   "source": [
    "std=Student(\"sumit\",\"Data Science\")"
   ]
  },
  {
   "cell_type": "code",
   "execution_count": 198,
   "id": "330df5b1",
   "metadata": {},
   "outputs": [
    {
     "data": {
      "text/plain": [
       "'sumit'"
      ]
     },
     "execution_count": 198,
     "metadata": {},
     "output_type": "execute_result"
    }
   ],
   "source": [
    "std.get_data"
   ]
  },
  {
   "cell_type": "code",
   "execution_count": 200,
   "id": "47dcb51e",
   "metadata": {},
   "outputs": [],
   "source": [
    "std.set_name=\"amit\""
   ]
  },
  {
   "cell_type": "code",
   "execution_count": 201,
   "id": "41c5ec1d",
   "metadata": {},
   "outputs": [
    {
     "data": {
      "text/plain": [
       "'amit'"
      ]
     },
     "execution_count": 201,
     "metadata": {},
     "output_type": "execute_result"
    }
   ],
   "source": [
    "std.get_data"
   ]
  },
  {
   "cell_type": "markdown",
   "id": "4be6c9ae",
   "metadata": {},
   "source": [
    "# 69. What is the purpose of the @property decorator in Python? Provide an example illustrating its usage."
   ]
  },
  {
   "cell_type": "raw",
   "id": "4b712e45",
   "metadata": {},
   "source": [
    "In Python, the @property decorator is used to define properties of a class. It allows you to define methods that can be accessed like attributes, providing a more intuitive and readable interface for accessing and modifying class attributes. The @property decorator is often used in conjunction with getter and setter methods to create managed attributes."
   ]
  },
  {
   "cell_type": "code",
   "execution_count": 204,
   "id": "7de5f4fd",
   "metadata": {},
   "outputs": [],
   "source": [
    "class Circle:\n",
    "    def __init__(self, radius):\n",
    "        self._radius = radius  \n",
    "    \n",
    "    @property\n",
    "    def radius(self):\n",
    "        return self._radius\n",
    "    \n",
    "    @radius.setter\n",
    "    def radius(self, value):\n",
    "        if value <= 0:\n",
    "            raise ValueError(\"Radius must be a positive number\")\n",
    "        self._radius = value\n",
    "    \n",
    "    @property\n",
    "    def area(self):\n",
    "        return 3.14159 * self._radius ** 2"
   ]
  },
  {
   "cell_type": "code",
   "execution_count": 203,
   "id": "030364a0",
   "metadata": {},
   "outputs": [
    {
     "name": "stdout",
     "output_type": "stream",
     "text": [
      "Radius: 5\n",
      "Area: 78.53975\n",
      "New Radius: 7\n"
     ]
    }
   ],
   "source": [
    "circle = Circle(5)\n",
    "print(\"Radius:\", circle.radius)  \n",
    "print(\"Area:\", circle.area)  \n",
    "circle.radius = 7\n",
    "print(\"New Radius:\", circle.radius) \n"
   ]
  },
  {
   "cell_type": "markdown",
   "id": "70fb3485",
   "metadata": {},
   "source": [
    "# 70. Explain the use of the @deleter decorator in Python property decorators. Provide a code example demonstrating its application."
   ]
  },
  {
   "cell_type": "raw",
   "id": "d985fd2a",
   "metadata": {},
   "source": [
    "In Python, the @deleter decorator is used in property decorators to define a deleter method for deleting an attribute of a class. It allows you to specify custom behavior that should occur when an attribute is deleted using the del statement."
   ]
  },
  {
   "cell_type": "code",
   "execution_count": 205,
   "id": "fff3705b",
   "metadata": {},
   "outputs": [],
   "source": [
    "class Student:\n",
    "    def __init__(self,name,subject):\n",
    "        self.__name=name\n",
    "        self.__subject=subject\n",
    "        \n",
    "    @property\n",
    "    def get_data(self):\n",
    "        return self.__name\n",
    "    \n",
    "    @get_data.setter\n",
    "    def set_name(self,new_name):\n",
    "        self.__name=new_name\n",
    "        \n",
    "    @get_data.deleter\n",
    "    def del_name(self):\n",
    "        del self.__name"
   ]
  },
  {
   "cell_type": "code",
   "execution_count": 206,
   "id": "6c448642",
   "metadata": {},
   "outputs": [],
   "source": [
    "std=Student(\"sumit\",\"C++\")"
   ]
  },
  {
   "cell_type": "code",
   "execution_count": 207,
   "id": "c4ff5b1f",
   "metadata": {},
   "outputs": [
    {
     "data": {
      "text/plain": [
       "'sumit'"
      ]
     },
     "execution_count": 207,
     "metadata": {},
     "output_type": "execute_result"
    }
   ],
   "source": [
    "std.get_data"
   ]
  },
  {
   "cell_type": "code",
   "execution_count": 208,
   "id": "f4e8cd4b",
   "metadata": {},
   "outputs": [],
   "source": [
    "std.set_name=\"amit\""
   ]
  },
  {
   "cell_type": "code",
   "execution_count": 209,
   "id": "68329822",
   "metadata": {},
   "outputs": [
    {
     "data": {
      "text/plain": [
       "'amit'"
      ]
     },
     "execution_count": 209,
     "metadata": {},
     "output_type": "execute_result"
    }
   ],
   "source": [
    "std.get_data"
   ]
  },
  {
   "cell_type": "code",
   "execution_count": 212,
   "id": "0b80615f",
   "metadata": {},
   "outputs": [],
   "source": [
    "del std.del_name"
   ]
  },
  {
   "cell_type": "code",
   "execution_count": 214,
   "id": "6a9d1e03",
   "metadata": {},
   "outputs": [
    {
     "ename": "AttributeError",
     "evalue": "'Student' object has no attribute '_Student__name'",
     "output_type": "error",
     "traceback": [
      "\u001b[1;31m---------------------------------------------------------------------------\u001b[0m",
      "\u001b[1;31mAttributeError\u001b[0m                            Traceback (most recent call last)",
      "\u001b[1;32m~\\AppData\\Local\\Temp/ipykernel_3800/402224293.py\u001b[0m in \u001b[0;36m<module>\u001b[1;34m\u001b[0m\n\u001b[1;32m----> 1\u001b[1;33m \u001b[0mstd\u001b[0m\u001b[1;33m.\u001b[0m\u001b[0mget_data\u001b[0m\u001b[1;33m\u001b[0m\u001b[1;33m\u001b[0m\u001b[0m\n\u001b[0m",
      "\u001b[1;32m~\\AppData\\Local\\Temp/ipykernel_3800/1375666864.py\u001b[0m in \u001b[0;36mget_data\u001b[1;34m(self)\u001b[0m\n\u001b[0;32m      6\u001b[0m     \u001b[1;33m@\u001b[0m\u001b[0mproperty\u001b[0m\u001b[1;33m\u001b[0m\u001b[1;33m\u001b[0m\u001b[0m\n\u001b[0;32m      7\u001b[0m     \u001b[1;32mdef\u001b[0m \u001b[0mget_data\u001b[0m\u001b[1;33m(\u001b[0m\u001b[0mself\u001b[0m\u001b[1;33m)\u001b[0m\u001b[1;33m:\u001b[0m\u001b[1;33m\u001b[0m\u001b[1;33m\u001b[0m\u001b[0m\n\u001b[1;32m----> 8\u001b[1;33m         \u001b[1;32mreturn\u001b[0m \u001b[0mself\u001b[0m\u001b[1;33m.\u001b[0m\u001b[0m__name\u001b[0m\u001b[1;33m\u001b[0m\u001b[1;33m\u001b[0m\u001b[0m\n\u001b[0m\u001b[0;32m      9\u001b[0m \u001b[1;33m\u001b[0m\u001b[0m\n\u001b[0;32m     10\u001b[0m     \u001b[1;33m@\u001b[0m\u001b[0mget_data\u001b[0m\u001b[1;33m.\u001b[0m\u001b[0msetter\u001b[0m\u001b[1;33m\u001b[0m\u001b[1;33m\u001b[0m\u001b[0m\n",
      "\u001b[1;31mAttributeError\u001b[0m: 'Student' object has no attribute '_Student__name'"
     ]
    }
   ],
   "source": [
    "std.get_data"
   ]
  },
  {
   "cell_type": "markdown",
   "id": "6255c4db",
   "metadata": {},
   "source": [
    "# 71. How does encapsulation relate to property decorators in Python? Provide an example showcasing encapsulation using property decorators."
   ]
  },
  {
   "cell_type": "raw",
   "id": "a6733705",
   "metadata": {},
   "source": [
    "Encapsulation is one of the fundamental concepts in object-oriented programming, which refers to the bundling of data and methods that operate on the data within a single unit or class. It allows for the implementation details of a class to be hidden from the outside world, providing controlled access to the class's attributes and methods.\n",
    "\n",
    "Property decorators in Python play a crucial role in achieving encapsulation by allowing the creation of managed attributes. They provide a way to define getter, setter, and deleter methods for class attributes, enabling controlled access and modification while hiding the implementation details."
   ]
  },
  {
   "cell_type": "code",
   "execution_count": 219,
   "id": "63488554",
   "metadata": {},
   "outputs": [
    {
     "name": "stdout",
     "output_type": "stream",
     "text": [
      "Current name: Alice\n",
      "Updated name: Bob\n",
      "Current age: 30\n",
      "Updated age: 25\n"
     ]
    }
   ],
   "source": [
    "class Person:\n",
    "    def __init__(self, name, age):\n",
    "        self._name = name  \n",
    "        self._age = age  \n",
    "    @property\n",
    "    def name(self):\n",
    "        return self._name\n",
    "    \n",
    "    @name.setter\n",
    "    def name(self, value):\n",
    "        \n",
    "        self._name = value\n",
    "    \n",
    "    @property\n",
    "    def age(self):\n",
    "        return self._age\n",
    "    \n",
    "    @age.setter\n",
    "    def age(self, value):\n",
    "        if not isinstance(value, int) or value < 0:\n",
    "            raise ValueError(\"Age must be a positive integer\")\n",
    "        self._age = value\n",
    "\n",
    "\n",
    "person = Person(\"Alice\", 30)\n",
    "print(\"Current name:\", person.name)  \n",
    "person.name = \"Bob\"\n",
    "print(\"Updated name:\", person.name)  \n",
    "print(\"Current age:\", person.age) \n",
    "person.age = 25\n",
    "print(\"Updated age:\", person.age)  "
   ]
  },
  {
   "cell_type": "code",
   "execution_count": null,
   "id": "76ed0a19",
   "metadata": {},
   "outputs": [],
   "source": [
    "\n"
   ]
  },
  {
   "cell_type": "code",
   "execution_count": null,
   "id": "ca5e15cc",
   "metadata": {},
   "outputs": [],
   "source": []
  }
 ],
 "metadata": {
  "kernelspec": {
   "display_name": "Python 3 (ipykernel)",
   "language": "python",
   "name": "python3"
  },
  "language_info": {
   "codemirror_mode": {
    "name": "ipython",
    "version": 3
   },
   "file_extension": ".py",
   "mimetype": "text/x-python",
   "name": "python",
   "nbconvert_exporter": "python",
   "pygments_lexer": "ipython3",
   "version": "3.9.7"
  }
 },
 "nbformat": 4,
 "nbformat_minor": 5
}
